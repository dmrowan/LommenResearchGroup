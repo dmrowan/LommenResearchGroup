{
 "cells": [
  {
   "cell_type": "code",
   "execution_count": 2,
   "metadata": {},
   "outputs": [],
   "source": [
    "from astropy.table import Table\n",
    "import numpy as np\n",
    "from scipy import interpolate\n",
    "from scipy.optimize import curve_fit\n",
    "from astropy.io import ascii\n",
    "import matplotlib.pyplot as plt\n",
    "from multiprocessing import Pool\n",
    "# from scipy.integrate import quad\n",
    "\n",
    "# Time range around the horizon crossing\n",
    "startTime = 390+1.92224*10**8\n",
    "stopTime = 500+1.92224*10**8\n",
    "\n",
    "# indices for the event file\n",
    "startTimeIndex = 311883\n",
    "stopTimeIndex = 352360\n",
    "\n",
    "# read in the data files\n",
    "tab_ni = Table.read('ni2200300102.mkf', hdu=1)\n",
    "timeArray = np.array(tab_ni['TIME'])\n",
    "elevArray = np.array(tab_ni['ELV'])\n",
    "azArray = np.array(tab_ni['RAM_ANGLE'])\n",
    "enArray_low = np.array(tab_ni['FPM_XRAY_PI_0035_0200'])\n",
    "enArray_mid = np.array(tab_ni['FPM_XRAY_PI_0800_1200'])\n",
    "\n",
    "tab_evt = Table.read('cleanfilt.evt', hdu=1)\n",
    "eventTime = np.array(tab_evt['TIME'][startTimeIndex:stopTimeIndex])\n",
    "enArray = np.array(tab_evt['PI'][startTimeIndex:stopTimeIndex])\n",
    "\n",
    "\n",
    "# interpolate the times.evt to go over the range of elevations.mkf\n",
    "f = interpolate.interp1d(timeArray, elevArray, kind='linear')\n",
    "elev_evt = f(eventTime)\n",
    "\n",
    "g = interpolate.interp1d(timeArray, azArray, kind='linear')\n",
    "az_evt = g(eventTime)\n",
    "\n",
    "# calculate altitude based on elevation angle\n",
    "R = 6378\n",
    "H = 410\n",
    "theta = np.arcsin(R/(R+H))\n",
    "altArray = []\n",
    "for indx, val in enumerate(elev_evt):\n",
    "    h = ((R+H)*np.sin(theta+val*(np.pi/180)))-R\n",
    "    altArray.append(np.float(h))\n",
    "altArray = np.array(altArray)\n",
    "\n",
    "\n",
    "# read in MSIS model data\n",
    "data = ascii.read(\"msis_model.txt\")\n",
    "\n",
    "height = np.array(data['km'])\n",
    "density = np.array(data['g/cm^3'])\n",
    "temp = np.array(data['K'])\n",
    "\n",
    "\n",
    "def msisSync(Y_msis):\n",
    "    height[0] = altArray[0]\n",
    "    height[len(height)-1] = altArray[len(altArray)-1]\n",
    "    func = interpolate.interp1d(height, Y_msis)\n",
    "    return np.array(func(altArray))\n",
    "\n",
    "\n",
    "msisRho = msisSync(density)\n",
    "msisT = msisSync(temp)\n",
    "\n",
    "\n",
    "#constants\n",
    "binSize_all = 1\n",
    "k = 1.38064852e-23\n",
    "mu = 28\n",
    "mp = 1.6726219e-27\n",
    "g = 9.8\n",
    "# L = (k*T)/(1000*mu*mp*g)\n",
    "z0 = 135\n",
    "# p0 = 0.0012*np.exp(-z0/L)\n",
    "\n",
    "\n",
    "class EnergyBands:\n",
    "\n",
    "    def __init__(self, energy_band, bin_size):\n",
    "        self.energy_band = energy_band\n",
    "        self.bin_size = bin_size\n",
    "        self.time, self.energies = EnergyBands.enSplit(self)\n",
    "        self.alt = EnergyBands.altSplit(self)\n",
    "        self.rate, self.new_alt, self.binTime = EnergyBands.countRate(self)\n",
    "        self.T_pre = EnergyBands.msisSplit(self, msisT)\n",
    "        self.rho_pre = EnergyBands.msisSplit(self, msisRho)\n",
    "        self.rho_msis, self.T_msis = EnergyBands.countRateSync(self)\n",
    "        self.perc_trans = EnergyBands.percTrans(self)\n",
    "        self.L_msis = EnergyBands.atmHeight(self)\n",
    "        # self.sigmaN = EnergyBands.Sigma(self)\n",
    "        # self.trans_model = Transmit(self.new_alt, self.sigmaN)\n",
    "        self.sigmafit_popt, self.sigmafit_pcov = EnergyBands.modelFit_sigma(self)\n",
    "        self.modelDensity = EnergyBands.hydroStaticModel(self)\n",
    "\n",
    "\n",
    "\n",
    "    # function that splits the altitudes based on energy bands\n",
    "    def altSplit(self):\n",
    "        index = np.where((enArray >= self.energy_band[0]) & (\n",
    "            enArray < self.energy_band[1]))\n",
    "        return altArray[index[0]]\n",
    "\n",
    "\n",
    "    # function that deduces the number of counts per bin size\n",
    "    def countRate(self):\n",
    "        binCounts = []\n",
    "        binTime = []\n",
    "        altitude = []\n",
    "        for i in np.arange(min(self.time), max(self.time)+self.bin_size, self.bin_size):\n",
    "            desind = np.where((self.time >= i) & (self.time < i + self.bin_size))\n",
    "            if len(self.alt[desind[0]]) != 0:\n",
    "                binCounts.append(np.size(desind[0]))\n",
    "                altitude.append(np.mean(self.alt[desind[0]]))\n",
    "                binTime.append(np.mean(self.time[desind[0]]))\n",
    "        return np.array(binCounts), np.array(altitude), np.array(binTime)\n",
    "\n",
    "\n",
    "    def countRateSync(self):\n",
    "        rho = []\n",
    "        temp = []\n",
    "        for i in np.arange(min(self.time), max(self.time)+self.bin_size, self.bin_size):\n",
    "            desind = np.where((self.time >= i) & (self.time < i + self.bin_size))\n",
    "            if len(self.alt[desind[0]]) != 0.:\n",
    "                rho.append(np.mean(self.rho_pre[desind[0]]))\n",
    "                temp.append(np.mean(self.T_pre[desind[0]]))\n",
    "        return np.array(rho), np.array(temp)\n",
    "\n",
    "\n",
    "    # function that makes a list of times corresponding to each energy range\n",
    "    def enSplit(self):\n",
    "        index = np.where((enArray >= self.energy_band[0]) & (\n",
    "            enArray < self.energy_band[1]))\n",
    "        return eventTime[index[0]], enArray[index[0]]/100\n",
    "\n",
    "\n",
    "    def percTrans(self):\n",
    "        plateau = np.where(((self.new_alt > 200) & (self.new_alt < 250)))\n",
    "        avg = np.mean(self.rate[plateau[0]])\n",
    "        return (self.rate/avg)*100\n",
    "\n",
    "\n",
    "    # functions to make the atmospheric model\n",
    "    # altArray=h in mathematica\n",
    "\n",
    "\n",
    "    def atmHeight(self):\n",
    "        return np.array((k*self.T_msis)/(1000*mu*mp*g))\n",
    "\n",
    "\n",
    "    def Sigma(self):\n",
    "        c = np.float(-3)\n",
    "        return (3.31*10**3)*(np.mean(self.energies)/100)**c\n",
    "\n",
    "\n",
    "    # i is the index in altArray\n",
    "    def Z(self, x, i, Alt):\n",
    "        return np.sqrt(x**2+(R+Alt[i])**2)-R\n",
    "\n",
    "\n",
    "    # def Rho(x, i, Alt, p0, l):\n",
    "        # return p0*np.exp(-(Z(x, i, Alt)-z0)/l)\n",
    "\n",
    "\n",
    "    # numerical integration\n",
    "    def Transmit(self, sigma):\n",
    "        elem = 500\n",
    "        tau = []\n",
    "        dist = 2*np.sqrt((R+H)**2-(R+self.new_alt)**2)\n",
    "        for hi in range(len(self.new_alt)):\n",
    "            f = 0\n",
    "            x2 = (dist[hi]*10**5)/2\n",
    "            X = np.linspace(0, x2, elem)\n",
    "            for n in X:\n",
    "                dx = x2/elem\n",
    "                f += self.rho_msis[hi]*dx  # this used to refer to Rho()\n",
    "            tau.append(-2*sigma*f)\n",
    "        tau = np.array(tau)\n",
    "        trans = 100*np.exp(tau)\n",
    "        return np.array(trans)\n",
    "\n",
    "\n",
    "    def msisSplit(self, msis_col):\n",
    "        index = np.where((enArray >= self.energy_band[0]) & (enArray < self.energy_band[1]))\n",
    "        return msis_col[index[0]]\n",
    "\n",
    "\n",
    "    def modelFit_sigma(self):\n",
    "        popt, pcov = curve_fit(EnergyBands.Transmit, self, self.perc_trans)\n",
    "        return popt, pcov\n",
    "    \n",
    "    \n",
    "    # calculating fit uncertrainty based on parameter uncertainties at the point with x=X -- this will need to change...\n",
    "    def paramUnc(self, Popt, Pcov, X):\n",
    "        Popt.tolist()\n",
    "        fVal = SeventhOr(startTime + X, *Popt)\n",
    "        frac_unc_params = []\n",
    "        added_frac_unc = 0\n",
    "\n",
    "        for paramIn in range(len(Popt)):\n",
    "            Popt[paramIn] = Popt[paramIn] + np.sqrt(abs(Pcov[paramIn][paramIn]))\n",
    "            fNew = SeventhOr(startTime + X, *Popt)\n",
    "            frac_unc = abs(fNew-fVal)/fVal\n",
    "            frac_unc_params.append((frac_unc)**2)\n",
    "\n",
    "        for i in range(len(frac_unc_params)):\n",
    "            added_frac_unc += frac_unc_params[i]\n",
    "\n",
    "        return np.sqrt(added_frac_unc)\n",
    "    \n",
    "    \n",
    "    def hydroStaticModel(self):\n",
    "        numInt = []\n",
    "        A = []\n",
    "        T_z = []\n",
    "        T_zdz = []\n",
    "        Rho_zdz = []\n",
    "        Rho_z = []\n",
    "        f = 0\n",
    "        for j in np.arange(len(self.rho_msis),0,-1):\n",
    "            i_z = j - 1\n",
    "            i_zdz = j - 2\n",
    "            A.append((self.new_alt[i_zdz]**2)*(k/(g*mu*mp)))\n",
    "            T_z.append(self.T_msis[i_z])\n",
    "            T_zdz.append(self.T_msis[i_zdz])\n",
    "     \n",
    "        upperIndex = len(self.new_alt) - 1\n",
    "        index_zdz = len(self.new_alt) - 2\n",
    "        index_z = index_zdz - 1\n",
    "        for indx in np.arange(len(self.rho_msis),0,-1):\n",
    "            if (indx == len(self.rho_msis)):\n",
    "                f = 0\n",
    "                rho0 = self.rho_msis[len(self.rho_msis)-1] #starting point ~ 10e-14\n",
    "                loops = upperIndex - index_zdz\n",
    "                for i in range(loops):\n",
    "                    f += rho0 * self.new_alt[index_zdz]**2\n",
    "                    index_zdz += 1\n",
    "                numInt.append(f)\n",
    "                Rho_z.append(((numInt[0]/A[0])+T_zdz[0]*rho0)/T_z[0])\n",
    "            else:\n",
    "                f = 0\n",
    "                rho0 = Rho_z[len(Rho_z)-1]\n",
    "                loops = upperIndex - index_zdz\n",
    "                for i in range(loops):\n",
    "                    f += rho0 * self.new_alt[index_zdz]**2\n",
    "                    index_zdz += 1\n",
    "                numInt.append(f)\n",
    "                Rho_z.append(((numInt[len(numInt)-1]/A[index_z])+T_zdz[index_z]*rho0)/T_z[index_z])\n",
    "                ## does rho0 = Rho_zdz in this equation ??\n",
    "            \n",
    "        numInt.reverse()\n",
    "        Rho_z.reverse()\n",
    "        \n",
    "        return np.array(Rho_z)\n",
    "        "
   ]
  },
  {
   "cell_type": "code",
   "execution_count": 3,
   "metadata": {},
   "outputs": [],
   "source": [
    "lowEn = [30, 70]\n",
    "\n",
    "low_en = EnergyBands(lowEn, binSize_all)"
   ]
  },
  {
   "cell_type": "code",
   "execution_count": 4,
   "metadata": {},
   "outputs": [
    {
     "data": {
      "text/plain": [
       "89"
      ]
     },
     "execution_count": 4,
     "metadata": {},
     "output_type": "execute_result"
    }
   ],
   "source": [
    "len(low_en.rho_msis)"
   ]
  },
  {
   "cell_type": "code",
   "execution_count": 5,
   "metadata": {},
   "outputs": [
    {
     "data": {
      "text/plain": [
       "array([7.55006069e-08, 6.41756132e-08, 5.45493540e-08, 4.63670212e-08,\n",
       "       3.94120279e-08, 3.35002745e-08, 2.84752765e-08, 2.42040218e-08,\n",
       "       2.05734497e-08, 1.74874588e-08, 1.48643625e-08, 1.26347273e-08,\n",
       "       1.07395345e-08, 9.12861820e-09, 7.75933724e-09, 6.59544666e-09,\n",
       "       5.60613817e-09, 4.76522468e-09, 4.05044712e-09, 3.44288528e-09,\n",
       "       2.92645692e-09, 2.48749216e-09, 2.11437154e-09, 1.79721854e-09,\n",
       "       1.52763808e-09, 1.29849434e-09, 1.10372186e-09, 9.38165004e-10,\n",
       "       7.97441464e-10, 6.77826273e-10, 5.76153206e-10, 4.89730968e-10,\n",
       "       4.16271955e-10, 3.53831698e-10, 3.00757400e-10, 2.55644178e-10,\n",
       "       2.17297881e-10, 1.84703479e-10, 1.56998195e-10, 1.33448668e-10,\n",
       "       1.13431540e-10, 9.64169556e-11, 8.19545366e-11, 6.96614618e-11,\n",
       "       5.92123324e-11, 5.03305589e-11, 4.27810400e-11, 3.63639391e-11,\n",
       "       3.09093952e-11, 2.62730258e-11, 2.23321058e-11, 1.89823187e-11,\n",
       "       1.61349954e-11, 1.37147669e-11, 1.16575695e-11, 9.90894915e-12,\n",
       "       8.42261956e-12, 7.15923749e-12, 6.08536110e-12, 5.17256478e-12,\n",
       "       4.39668674e-12, 3.73718940e-12, 3.17661581e-12, 2.70012753e-12,\n",
       "       2.29511188e-12, 1.95084806e-12, 1.65822337e-12, 1.40949200e-12,\n",
       "       1.19807002e-12, 1.01836106e-12, 8.65608216e-13, 7.35768100e-13,\n",
       "       6.25403834e-13, 5.31594065e-13, 4.51855641e-13, 3.84077878e-13,\n",
       "       3.26466692e-13, 2.77497109e-13, 2.35872900e-13, 2.00492270e-13,\n",
       "       1.70418688e-13, 1.44856104e-13, 1.23127876e-13, 1.04658853e-13,\n",
       "       8.89601600e-14, 7.56162508e-14, 6.42739107e-14, 5.46329070e-14,\n",
       "       4.64380414e-14])"
      ]
     },
     "execution_count": 5,
     "metadata": {},
     "output_type": "execute_result"
    }
   ],
   "source": [
    "low_en.modelDensity"
   ]
  },
  {
   "cell_type": "code",
   "execution_count": 13,
   "metadata": {},
   "outputs": [
    {
     "data": {
      "text/plain": [
       "[<matplotlib.lines.Line2D at 0x131e903050>]"
      ]
     },
     "execution_count": 13,
     "metadata": {},
     "output_type": "execute_result"
    },
    {
     "data": {
      "image/png": "[encoded data removed]",
      "text/plain": [
       "<Figure size 432x288 with 1 Axes>"
      ]
     },
     "metadata": {
      "needs_background": "light"
     },
     "output_type": "display_data"
    }
   ],
   "source": [
    "plt.plot(low_en.new_alt, low_en.modelDensity, 'b.')\n",
    "plt.plot(low_en.new_alt, low_en.rho_msis, 'r-')"
   ]
  },
  {
   "cell_type": "code",
   "execution_count": 7,
   "metadata": {},
   "outputs": [
    {
     "data": {
      "text/plain": [
       "array([89, 88, 87, 86, 85, 84, 83, 82, 81, 80, 79, 78, 77, 76, 75, 74, 73,\n",
       "       72, 71, 70, 69, 68, 67, 66, 65, 64, 63, 62, 61, 60, 59, 58, 57, 56,\n",
       "       55, 54, 53, 52, 51, 50, 49, 48, 47, 46, 45, 44, 43, 42, 41, 40, 39,\n",
       "       38, 37, 36, 35, 34, 33, 32, 31, 30, 29, 28, 27, 26, 25, 24, 23, 22,\n",
       "       21, 20, 19, 18, 17, 16, 15, 14, 13, 12, 11, 10,  9,  8,  7,  6,  5,\n",
       "        4,  3,  2,  1])"
      ]
     },
     "execution_count": 7,
     "metadata": {},
     "output_type": "execute_result"
    }
   ],
   "source": [
    "np.arange(len(low_en.rho_msis),0,-1)"
   ]
  },
  {
   "cell_type": "code",
   "execution_count": 8,
   "metadata": {},
   "outputs": [
    {
     "data": {
      "text/plain": [
       "[<matplotlib.lines.Line2D at 0x131a0cf610>]"
      ]
     },
     "execution_count": 8,
     "metadata": {},
     "output_type": "execute_result"
    },
    {
     "data": {
      "image/png": "[encoded data removed]",
      "text/plain": [
       "<Figure size 432x288 with 1 Axes>"
      ]
     },
     "metadata": {
      "needs_background": "light"
     },
     "output_type": "display_data"
    }
   ],
   "source": [
    "plt.plot(low_en.new_alt, low_en.T_msis, 'b.')"
   ]
  },
  {
   "cell_type": "code",
   "execution_count": null,
   "metadata": {},
   "outputs": [],
   "source": []
  }
 ],
 "metadata": {
  "kernelspec": {
   "display_name": "Python 3",
   "language": "python",
   "name": "python3"
  },
  "language_info": {
   "codemirror_mode": {
    "name": "ipython",
    "version": 3
   },
   "file_extension": ".py",
   "mimetype": "text/x-python",
   "name": "python",
   "nbconvert_exporter": "python",
   "pygments_lexer": "ipython3",
   "version": "3.7.6"
  }
 },
 "nbformat": 4,
 "nbformat_minor": 4
}

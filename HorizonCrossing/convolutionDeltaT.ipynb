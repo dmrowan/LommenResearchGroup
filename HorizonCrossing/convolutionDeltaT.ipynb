{
 "cells": [
  {
   "cell_type": "markdown",
   "metadata": {},
   "source": [
    "This notebook executes a convolution betweeen the two horizon crossings"
   ]
  },
  {
   "cell_type": "code",
   "execution_count": 10,
   "metadata": {},
   "outputs": [],
   "source": [
    "from astropy.table import Table\n",
    "import numpy as np\n",
    "from scipy import interpolate\n",
    "from scipy.optimize import curve_fit\n",
    "from astropy.io import ascii\n",
    "import matplotlib.pyplot as plt\n",
    "import datetime\n",
    "import numbers\n",
    "\n",
    "R = 6378\n",
    "H = 419\n",
    "G = 6.673e-11\n",
    "M = 5.972e24\n",
    "theta = np.arcsin(R/(R+H))\n",
    "\n",
    "\n",
    "febEVT = Table.read('2200300102_pipe/cleanfilt.evt', hdu=1)\n",
    "febEventTime = np.array(febEVT['TIME'])\n",
    "janEVT = Table.read('2200300101_pipe/cleanfilt.evt', hdu=1)\n",
    "janEventTime = np.array(janEVT['TIME'])"
   ]
  },
  {
   "cell_type": "code",
   "execution_count": 11,
   "metadata": {},
   "outputs": [],
   "source": [
    "def countRate(timeArray):\n",
    "    binCounts = []\n",
    "    binTime = []\n",
    "    timeList = []\n",
    "    for i in np.arange(min(timeArray), max(timeArray)+1, 1):\n",
    "        desind = np.where((timeArray >= i) & (timeArray < i + 1))\n",
    "        if(len(desind[0]) != 0):\n",
    "            binCounts.append(np.size(desind[0]))\n",
    "            binTime.append(np.mean(timeArray[desind[0]]))\n",
    "        else:\n",
    "            binCounts.append(0)\n",
    "            binTime.append(i)\n",
    "    return np.array(binCounts), np.array(binTime)\n",
    "    \n",
    "febRate, febBinnedTime = countRate(febEventTime)\n",
    "janRate, janBinnedTime = countRate(janEventTime)"
   ]
  },
  {
   "cell_type": "code",
   "execution_count": 12,
   "metadata": {},
   "outputs": [
    {
     "name": "stdout",
     "output_type": "stream",
     "text": [
      "6788.104789497814\n"
     ]
    }
   ],
   "source": [
    "firstPeriod = 5566.5 # based on 2 0rbits from feb 3\n",
    "firstOrbitalRadius = (firstPeriod**2*G*M/(4*np.pi**2))**(1/3)\n",
    "print(firstOrbitalRadius/1000)"
   ]
  },
  {
   "cell_type": "code",
   "execution_count": 13,
   "metadata": {},
   "outputs": [
    {
     "data": {
      "text/plain": [
       "[<matplotlib.lines.Line2D at 0x126ba52b0>]"
      ]
     },
     "execution_count": 13,
     "metadata": {},
     "output_type": "execute_result"
    },
    {
     "data": {
      "image/png": "[encoded data removed]",
      "text/plain": [
       "<Figure size 432x288 with 1 Axes>"
      ]
     },
     "metadata": {
      "needs_background": "light"
     },
     "output_type": "display_data"
    }
   ],
   "source": [
    "from numpy import convolve\n",
    "%matplotlib inline\n",
    "# each crossing is 4988 sec long\n",
    "convolutionRate = convolve(janRate[1000:len(janBinnedTime)-1],febRate[12558:len(febBinnedTime)-1])\n",
    "convolutionTime = febBinnedTime[12558:len(febBinnedTime)-1]-janBinnedTime[1000:len(janBinnedTime)-1]\n",
    "plt.plot(convolutionRate)"
   ]
  },
  {
   "cell_type": "code",
   "execution_count": 14,
   "metadata": {},
   "outputs": [
    {
     "name": "stdout",
     "output_type": "stream",
     "text": [
      "47.08640485134106\n"
     ]
    }
   ],
   "source": [
    "maxIndex = np.where(convolutionRate==np.max(convolutionRate))[0][0]-4988\n",
    "deltaT=febBinnedTime[12558+maxIndex]-janBinnedTime[1000+maxIndex] #also equals convolutionTime[maxIndex]\n",
    "print(deltaT/firstPeriod)\n",
    "betterPeriod = deltaT/47"
   ]
  },
  {
   "cell_type": "code",
   "execution_count": 15,
   "metadata": {},
   "outputs": [
    {
     "data": {
      "text/plain": [
       "5576.733459680639"
      ]
     },
     "execution_count": 15,
     "metadata": {},
     "output_type": "execute_result"
    }
   ],
   "source": [
    "betterPeriod #this is better!"
   ]
  },
  {
   "cell_type": "code",
   "execution_count": 16,
   "metadata": {},
   "outputs": [
    {
     "data": {
      "text/plain": [
       "6797.674"
      ]
     },
     "execution_count": 16,
     "metadata": {},
     "output_type": "execute_result"
    }
   ],
   "source": [
    "tabMKF = Table.read('2200300101_pipe/ni2200300101.mkf', hdu=1)\n",
    "timeMKF = np.array(tabMKF['TIME'])\n",
    "elevMKF = np.array(tabMKF['ELV'])\n",
    "ramMKF = np.array(tabMKF['RAM_ANGLE'])\n",
    "pointing_unit = np.array(tabMKF['PNTUNIT'])\n",
    "position = np.array(tabMKF['POSITION'])\n",
    "position_mag = np.array(np.sqrt((position[:,0])**2+(position[:,1])**2+(tabMKF['POSITION'][:,2])**2))\n",
    "np.mean(position_mag)"
   ]
  },
  {
   "cell_type": "code",
   "execution_count": 17,
   "metadata": {},
   "outputs": [
    {
     "data": {
      "text/plain": [
       "6796.421748653554"
      ]
     },
     "execution_count": 17,
     "metadata": {},
     "output_type": "execute_result"
    }
   ],
   "source": [
    "RorbitCalc = (betterPeriod**2*G*M/(4*np.pi**2))**(1/3)\n",
    "RorbitCalc/1000\n",
    "# 9.6 km to 1.2 km error after this technique"
   ]
  },
  {
   "cell_type": "code",
   "execution_count": 22,
   "metadata": {},
   "outputs": [
    {
     "data": {
      "text/plain": [
       "0.0011266784314879921"
      ]
     },
     "execution_count": 22,
     "metadata": {},
     "output_type": "execute_result"
    }
   ],
   "source": [
    "omegaCalc=2*np.pi/betterPeriod\n",
    "omegaCalc"
   ]
  },
  {
   "cell_type": "code",
   "execution_count": 23,
   "metadata": {},
   "outputs": [
    {
     "data": {
      "text/plain": [
       "0.001126624584396555"
      ]
     },
     "execution_count": 23,
     "metadata": {},
     "output_type": "execute_result"
    }
   ],
   "source": [
    "2*np.pi/5577"
   ]
  },
  {
   "cell_type": "code",
   "execution_count": null,
   "metadata": {},
   "outputs": [],
   "source": []
  }
 ],
 "metadata": {
  "kernelspec": {
   "display_name": "Python 3",
   "language": "python",
   "name": "python3"
  },
  "language_info": {
   "codemirror_mode": {
    "name": "ipython",
    "version": 3
   },
   "file_extension": ".py",
   "mimetype": "text/x-python",
   "name": "python",
   "nbconvert_exporter": "python",
   "pygments_lexer": "ipython3",
   "version": "3.8.5"
  }
 },
 "nbformat": 4,
 "nbformat_minor": 4
}

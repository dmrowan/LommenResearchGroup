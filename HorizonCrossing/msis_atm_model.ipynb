{
 "cells": [
  {
   "cell_type": "code",
   "execution_count": 10,
   "metadata": {},
   "outputs": [],
   "source": [
    "from astropy.table import Table\n",
    "import numpy as np\n",
    "from scipy import interpolate\n",
    "from scipy.optimize import curve_fit\n",
    "from astropy.io import ascii\n",
    "import matplotlib.pyplot as plt\n",
    "# from scipy.integrate import quad\n",
    "\n",
    "# Time range around the horizon crossing\n",
    "startTime = 390+1.92224*10**8\n",
    "stopTime = 500+1.92224*10**8\n",
    "\n",
    "# indices for the event file\n",
    "startTimeIndex = 311883\n",
    "stopTimeIndex = 352360\n",
    "\n",
    "# read in the data files\n",
    "tab_ni = Table.read('ni2200300102.mkf', hdu=1)\n",
    "timeArray = np.array(tab_ni['TIME'])\n",
    "elevArray = np.array(tab_ni['ELV'])\n",
    "azArray = np.array(tab_ni['RAM_ANGLE'])\n",
    "enArray_low = np.array(tab_ni['FPM_XRAY_PI_0035_0200'])\n",
    "enArray_mid = np.array(tab_ni['FPM_XRAY_PI_0800_1200'])\n",
    "\n",
    "tab_evt = Table.read('cleanfilt.evt', hdu=1)\n",
    "eventTime = np.array(tab_evt['TIME'][startTimeIndex:stopTimeIndex])\n",
    "enArray = np.array(tab_evt['PI'][startTimeIndex:stopTimeIndex])\n",
    "\n",
    "\n",
    "# interpolate the times.evt to go over the range of elevations.mkf\n",
    "f = interpolate.interp1d(timeArray, elevArray, kind='linear')\n",
    "elev_evt = f(eventTime)\n",
    "\n",
    "g = interpolate.interp1d(timeArray, azArray, kind='linear')\n",
    "az_evt = g(eventTime)\n",
    "\n",
    "# calculate altitude based on elevation angle\n",
    "R = 6378\n",
    "H = 410\n",
    "theta = np.arcsin(R/(R+H))\n",
    "altArray = []\n",
    "for indx, val in enumerate(elev_evt):\n",
    "    h = ((R+H)*np.sin(theta+val*(np.pi/180)))-R\n",
    "    altArray.append(np.float(h))\n",
    "altArray = np.array(altArray)\n",
    "\n",
    "\n",
    "# read in MSIS model data\n",
    "data = ascii.read(\"msis_model.txt\")\n",
    "\n",
    "height = np.array(data['km'])\n",
    "density = np.array(data['g/cm^3'])\n",
    "temp = np.array(data['K'])\n",
    "\n",
    "\n",
    "def msisSync(Y_msis):\n",
    "    height[0] = altArray[0]\n",
    "    height[len(height)-1] = altArray[len(altArray)-1]\n",
    "    func = interpolate.interp1d(height, Y_msis)\n",
    "    return np.array(func(altArray))\n",
    "\n",
    "\n",
    "msisRho = msisSync(density)\n",
    "msisT = msisSync(temp)\n",
    "\n",
    "\n",
    "# bin size and energy band cutoffs\n",
    "binSize_all = 1\n",
    "lowEn = [30, 70]\n",
    "lowMidEn = [70, 100]\n",
    "midEn = [100, 200]\n",
    "highEn = [200, 600]\n",
    "allEn = [0, 1000]\n",
    "\n",
    "\n",
    "class EnergyBands:\n",
    "\n",
    "    def __init__(self, energy_band, bin_size):\n",
    "        self.energy_band = energy_band\n",
    "        self.bin_size = bin_size\n",
    "        self.time, self.energies = enSplit(energy_band)\n",
    "        self.alt = altSplit(energy_band)\n",
    "        self.rate, self.new_alt = countRate(self.time, self.alt, bin_size)\n",
    "        self.T_pre = msisSplit(self.new_alt, energy_band, msisT)\n",
    "        self.rho_pre = msisSplit(self.new_alt, energy_band, msisRho)\n",
    "        self.rho_msis, self.T_msis = countRateSync(self.time, self.new_alt, self.rho_pre, self.T_pre, bin_size)\n",
    "        self.time_axis = Axis(self.rate, bin_size)\n",
    "        self.perc_trans = percTrans(self.new_alt, self.rate)\n",
    "        self.L_msis = atmHeight(self.T_msis)\n",
    "        self.sigmaN = Sigma(self.energies)\n",
    "        # self.trans_model = Transmit(self.new_alt, self.rho_msis, self.sigmaN)\n",
    "        self.sigmafit_popt, self.sigmafit_pcov = modelFit_sigma(self.perc_trans, self.new_alt, self.rho_msis)\n",
    "\n",
    "\n",
    "\n",
    "# Time axis\n",
    "def Axis(Rate, binSize):\n",
    "    return np.arange(0, len(Rate), binSize)\n",
    "\n",
    "\n",
    "# function that splits the altitudes based on energy bands\n",
    "def altSplit(energy_level):\n",
    "    index = np.where((enArray >= energy_level[0]) & (enArray < energy_level[1]))\n",
    "    return altArray[index[0]]\n",
    "\n",
    "\n",
    "# function that deduces the number of counts per bin size\n",
    "def countRate(Time, alt_array, binSize):\n",
    "    binCounts = []\n",
    "    altitude = []\n",
    "    for i in np.arange(min(Time), max(Time)+binSize, binSize):\n",
    "        desind = np.where((Time >= i) & (Time < i + binSize))\n",
    "        if len(alt_array[desind[0]]) != 0:\n",
    "            binCounts.append(np.size(desind[0]))\n",
    "            altitude.append(np.mean(alt_array[desind[0]]))\n",
    "    return np.array(binCounts), np.array(altitude)\n",
    "\n",
    "\n",
    "def countRateSync(Time, alt_array, msis_rho, msis_temp, binSize):\n",
    "    rho = []\n",
    "    temp = []\n",
    "    for i in np.arange(min(Time), max(Time)+binSize, binSize):\n",
    "        desind = np.where((Time >= i) & (Time < i + binSize))\n",
    "        if len(alt_array[desind[0]]) != 0.:\n",
    "            rho.append(np.mean(msis_rho[desind[0]]))\n",
    "            temp.append(np.mean(msis_temp[desind[0]]))\n",
    "    return  np.array(rho), np.array(temp)\n",
    "\n",
    "\n",
    "# function that makes a list of times corresponding to each energy range\n",
    "def enSplit(energy_level):\n",
    "    index = np.where((enArray >= energy_level[0]) & (enArray < energy_level[1]))\n",
    "    return eventTime[index[0]], enArray[index[0]]\n",
    "\n",
    "\n",
    "def percTrans(Alt, Rate):\n",
    "    plateau = np.where(((Alt > 200) & (Alt < 250)))\n",
    "    avg = np.mean(Rate[plateau[0]])\n",
    "    return (Rate/avg)*100\n",
    "\n",
    "\n",
    "# functions to make the atmospheric model\n",
    "# altArray=h in mathematica\n",
    "k = 1.38064852*10**-23\n",
    "# T = 500\n",
    "mu = 28\n",
    "mp = 1.6726219*10**-27\n",
    "g = 9.8\n",
    "# L = (k*T)/(1000*mu*mp*g)\n",
    "z0 = 135\n",
    "# p0 = 0.0012*np.exp(-z0/L)\n",
    "\n",
    "\n",
    "def atmHeight(Temperature):\n",
    "    return np.array((k*Temperature)/(1000*mu*mp*g))\n",
    "\n",
    "\n",
    "def Sigma(energy):\n",
    "    c = np.float(-3)\n",
    "    return (3.31*10**3)*(np.mean(energy)/100)**c\n",
    "\n",
    "\n",
    "# i is the index in altArray\n",
    "def Z(x, i, Alt):\n",
    "    return np.sqrt(x**2+(R+Alt[i])**2)-R\n",
    "\n",
    "\n",
    "# def Rho(x, i, Alt, p0, l):\n",
    "    # return p0*np.exp(-(Z(x, i, Alt)-z0)/l)\n",
    "\n",
    "\n",
    "# numerical integration\n",
    "def Transmit(Alt, msisRho, sigma):\n",
    "    elem = 500\n",
    "    tau = []\n",
    "    dist = 2*np.sqrt((R+H)**2-(R+Alt)**2)\n",
    "    for hi in range(len(Alt)):\n",
    "        g = np.float(0)\n",
    "        x2 = (dist[hi]*10**5)/2\n",
    "        X = np.linspace(0, x2, elem)\n",
    "        for n in X:\n",
    "            dx = x2/elem\n",
    "            g += msisRho[hi]*dx #this used to refer to Rho()\n",
    "        tau.append(-2*sigma*g)\n",
    "    tau = np.array(tau)\n",
    "    trans = 100*np.exp(tau)\n",
    "    return np.array(trans)\n",
    "\n",
    "\n",
    "def msisSplit(desiredAlt, energy_level, msis_col):\n",
    "    index = np.where((enArray >= energy_level[0]) & (enArray < energy_level[1]))\n",
    "    return msis_col[index[0]]\n",
    "\n",
    "\n",
    "def modelFit_sigma(percTrans, Alt, Density):\n",
    "    popt, pcov = curve_fit(lambda Alt, sigma: Transmit(Alt, Density, sigma), \n",
    "                       Alt, percTrans)\n",
    "    return popt, pcov\n",
    "\n",
    "\n",
    "# calculating fit uncertrainty based on parameter uncertainties at the point with x=X -- this will need to change...\n",
    "def paramUnc(Popt, Pcov, X):\n",
    "    Popt.tolist()\n",
    "    fVal = SeventhOr(startTime + X, *Popt)\n",
    "    frac_unc_params = []\n",
    "    added_frac_unc = 0\n",
    "\n",
    "    for paramIn in range(len(Popt)):\n",
    "        Popt[paramIn] = Popt[paramIn] + np.sqrt(abs(Pcov[paramIn][paramIn]))\n",
    "        fNew = SeventhOr(startTime + X, *Popt)\n",
    "        frac_unc = abs(fNew-fVal)/fVal\n",
    "        frac_unc_params.append((frac_unc)**2)\n",
    "\n",
    "    for i in range(len(frac_unc_params)):\n",
    "        added_frac_unc += frac_unc_params[i]\n",
    "\n",
    "    return np.sqrt(added_frac_unc)"
   ]
  },
  {
   "cell_type": "code",
   "execution_count": 11,
   "metadata": {},
   "outputs": [
    {
     "ename": "IndexError",
     "evalue": "index 104 is out of bounds for axis 0 with size 104",
     "output_type": "error",
     "traceback": [
      "\u001b[0;31m---------------------------------------------------------------------------\u001b[0m",
      "\u001b[0;31mIndexError\u001b[0m                                Traceback (most recent call last)",
      "\u001b[0;32m<ipython-input-11-70f038508373>\u001b[0m in \u001b[0;36m<module>\u001b[0;34m\u001b[0m\n\u001b[1;32m      3\u001b[0m \u001b[0;31m#mid_en = EnergyBands(midEn, binSize_all)\u001b[0m\u001b[0;34m\u001b[0m\u001b[0;34m\u001b[0m\u001b[0;34m\u001b[0m\u001b[0m\n\u001b[1;32m      4\u001b[0m \u001b[0;31m#high_en = EnergyBands(highEn, binSize_all)\u001b[0m\u001b[0;34m\u001b[0m\u001b[0;34m\u001b[0m\u001b[0;34m\u001b[0m\u001b[0m\n\u001b[0;32m----> 5\u001b[0;31m \u001b[0mall_en\u001b[0m \u001b[0;34m=\u001b[0m \u001b[0mEnergyBands\u001b[0m\u001b[0;34m(\u001b[0m\u001b[0mallEn\u001b[0m\u001b[0;34m,\u001b[0m \u001b[0mbinSize_all\u001b[0m\u001b[0;34m)\u001b[0m\u001b[0;34m\u001b[0m\u001b[0;34m\u001b[0m\u001b[0m\n\u001b[0m",
      "\u001b[0;32m<ipython-input-10-c733d8f67413>\u001b[0m in \u001b[0;36m__init__\u001b[0;34m(self, energy_band, bin_size)\u001b[0m\n\u001b[1;32m     84\u001b[0m         \u001b[0mself\u001b[0m\u001b[0;34m.\u001b[0m\u001b[0mT_pre\u001b[0m \u001b[0;34m=\u001b[0m \u001b[0mmsisSplit\u001b[0m\u001b[0;34m(\u001b[0m\u001b[0mself\u001b[0m\u001b[0;34m.\u001b[0m\u001b[0mnew_alt\u001b[0m\u001b[0;34m,\u001b[0m \u001b[0menergy_band\u001b[0m\u001b[0;34m,\u001b[0m \u001b[0mmsisT\u001b[0m\u001b[0;34m)\u001b[0m\u001b[0;34m\u001b[0m\u001b[0;34m\u001b[0m\u001b[0m\n\u001b[1;32m     85\u001b[0m         \u001b[0mself\u001b[0m\u001b[0;34m.\u001b[0m\u001b[0mrho_pre\u001b[0m \u001b[0;34m=\u001b[0m \u001b[0mmsisSplit\u001b[0m\u001b[0;34m(\u001b[0m\u001b[0mself\u001b[0m\u001b[0;34m.\u001b[0m\u001b[0mnew_alt\u001b[0m\u001b[0;34m,\u001b[0m \u001b[0menergy_band\u001b[0m\u001b[0;34m,\u001b[0m \u001b[0mmsisRho\u001b[0m\u001b[0;34m)\u001b[0m\u001b[0;34m\u001b[0m\u001b[0;34m\u001b[0m\u001b[0m\n\u001b[0;32m---> 86\u001b[0;31m         \u001b[0mself\u001b[0m\u001b[0;34m.\u001b[0m\u001b[0mrho_msis\u001b[0m\u001b[0;34m,\u001b[0m \u001b[0mself\u001b[0m\u001b[0;34m.\u001b[0m\u001b[0mT_msis\u001b[0m \u001b[0;34m=\u001b[0m \u001b[0mcountRateSync\u001b[0m\u001b[0;34m(\u001b[0m\u001b[0mself\u001b[0m\u001b[0;34m.\u001b[0m\u001b[0mtime\u001b[0m\u001b[0;34m,\u001b[0m \u001b[0mself\u001b[0m\u001b[0;34m.\u001b[0m\u001b[0mnew_alt\u001b[0m\u001b[0;34m,\u001b[0m \u001b[0mself\u001b[0m\u001b[0;34m.\u001b[0m\u001b[0mrho_pre\u001b[0m\u001b[0;34m,\u001b[0m \u001b[0mself\u001b[0m\u001b[0;34m.\u001b[0m\u001b[0mT_pre\u001b[0m\u001b[0;34m,\u001b[0m \u001b[0mbin_size\u001b[0m\u001b[0;34m)\u001b[0m\u001b[0;34m\u001b[0m\u001b[0;34m\u001b[0m\u001b[0m\n\u001b[0m\u001b[1;32m     87\u001b[0m         \u001b[0mself\u001b[0m\u001b[0;34m.\u001b[0m\u001b[0mtime_axis\u001b[0m \u001b[0;34m=\u001b[0m \u001b[0mAxis\u001b[0m\u001b[0;34m(\u001b[0m\u001b[0mself\u001b[0m\u001b[0;34m.\u001b[0m\u001b[0mrate\u001b[0m\u001b[0;34m,\u001b[0m \u001b[0mbin_size\u001b[0m\u001b[0;34m)\u001b[0m\u001b[0;34m\u001b[0m\u001b[0;34m\u001b[0m\u001b[0m\n\u001b[1;32m     88\u001b[0m         \u001b[0mself\u001b[0m\u001b[0;34m.\u001b[0m\u001b[0mperc_trans\u001b[0m \u001b[0;34m=\u001b[0m \u001b[0mpercTrans\u001b[0m\u001b[0;34m(\u001b[0m\u001b[0mself\u001b[0m\u001b[0;34m.\u001b[0m\u001b[0mnew_alt\u001b[0m\u001b[0;34m,\u001b[0m \u001b[0mself\u001b[0m\u001b[0;34m.\u001b[0m\u001b[0mrate\u001b[0m\u001b[0;34m)\u001b[0m\u001b[0;34m\u001b[0m\u001b[0;34m\u001b[0m\u001b[0m\n",
      "\u001b[0;32m<ipython-input-10-c733d8f67413>\u001b[0m in \u001b[0;36mcountRateSync\u001b[0;34m(Time, alt_array, msis_rho, msis_temp, binSize)\u001b[0m\n\u001b[1;32m    122\u001b[0m     \u001b[0;32mfor\u001b[0m \u001b[0mi\u001b[0m \u001b[0;32min\u001b[0m \u001b[0mnp\u001b[0m\u001b[0;34m.\u001b[0m\u001b[0marange\u001b[0m\u001b[0;34m(\u001b[0m\u001b[0mmin\u001b[0m\u001b[0;34m(\u001b[0m\u001b[0mTime\u001b[0m\u001b[0;34m)\u001b[0m\u001b[0;34m,\u001b[0m \u001b[0mmax\u001b[0m\u001b[0;34m(\u001b[0m\u001b[0mTime\u001b[0m\u001b[0;34m)\u001b[0m\u001b[0;34m+\u001b[0m\u001b[0mbinSize\u001b[0m\u001b[0;34m,\u001b[0m \u001b[0mbinSize\u001b[0m\u001b[0;34m)\u001b[0m\u001b[0;34m:\u001b[0m\u001b[0;34m\u001b[0m\u001b[0;34m\u001b[0m\u001b[0m\n\u001b[1;32m    123\u001b[0m         \u001b[0mdesind\u001b[0m \u001b[0;34m=\u001b[0m \u001b[0mnp\u001b[0m\u001b[0;34m.\u001b[0m\u001b[0mwhere\u001b[0m\u001b[0;34m(\u001b[0m\u001b[0;34m(\u001b[0m\u001b[0mTime\u001b[0m \u001b[0;34m>=\u001b[0m \u001b[0mi\u001b[0m\u001b[0;34m)\u001b[0m \u001b[0;34m&\u001b[0m \u001b[0;34m(\u001b[0m\u001b[0mTime\u001b[0m \u001b[0;34m<\u001b[0m \u001b[0mi\u001b[0m \u001b[0;34m+\u001b[0m \u001b[0mbinSize\u001b[0m\u001b[0;34m)\u001b[0m\u001b[0;34m)\u001b[0m\u001b[0;34m\u001b[0m\u001b[0;34m\u001b[0m\u001b[0m\n\u001b[0;32m--> 124\u001b[0;31m         \u001b[0;32mif\u001b[0m \u001b[0mlen\u001b[0m\u001b[0;34m(\u001b[0m\u001b[0malt_array\u001b[0m\u001b[0;34m[\u001b[0m\u001b[0mdesind\u001b[0m\u001b[0;34m[\u001b[0m\u001b[0;36m0\u001b[0m\u001b[0;34m]\u001b[0m\u001b[0;34m]\u001b[0m\u001b[0;34m)\u001b[0m \u001b[0;34m!=\u001b[0m \u001b[0;36m0.\u001b[0m\u001b[0;34m:\u001b[0m\u001b[0;34m\u001b[0m\u001b[0;34m\u001b[0m\u001b[0m\n\u001b[0m\u001b[1;32m    125\u001b[0m             \u001b[0mrho\u001b[0m\u001b[0;34m.\u001b[0m\u001b[0mappend\u001b[0m\u001b[0;34m(\u001b[0m\u001b[0mnp\u001b[0m\u001b[0;34m.\u001b[0m\u001b[0mmean\u001b[0m\u001b[0;34m(\u001b[0m\u001b[0mmsis_rho\u001b[0m\u001b[0;34m[\u001b[0m\u001b[0mdesind\u001b[0m\u001b[0;34m[\u001b[0m\u001b[0;36m0\u001b[0m\u001b[0;34m]\u001b[0m\u001b[0;34m]\u001b[0m\u001b[0;34m)\u001b[0m\u001b[0;34m)\u001b[0m\u001b[0;34m\u001b[0m\u001b[0;34m\u001b[0m\u001b[0m\n\u001b[1;32m    126\u001b[0m             \u001b[0mtemp\u001b[0m\u001b[0;34m.\u001b[0m\u001b[0mappend\u001b[0m\u001b[0;34m(\u001b[0m\u001b[0mnp\u001b[0m\u001b[0;34m.\u001b[0m\u001b[0mmean\u001b[0m\u001b[0;34m(\u001b[0m\u001b[0mmsis_temp\u001b[0m\u001b[0;34m[\u001b[0m\u001b[0mdesind\u001b[0m\u001b[0;34m[\u001b[0m\u001b[0;36m0\u001b[0m\u001b[0;34m]\u001b[0m\u001b[0;34m]\u001b[0m\u001b[0;34m)\u001b[0m\u001b[0;34m)\u001b[0m\u001b[0;34m\u001b[0m\u001b[0;34m\u001b[0m\u001b[0m\n",
      "\u001b[0;31mIndexError\u001b[0m: index 104 is out of bounds for axis 0 with size 104"
     ]
    }
   ],
   "source": [
    "#low_en = EnergyBands(lowEn, binSize_all)\n",
    "#lowMid_en = EnergyBands(lowMidEn, binSize_all)\n",
    "#mid_en = EnergyBands(midEn, binSize_all)\n",
    "#high_en = EnergyBands(highEn, binSize_all)\n",
    "all_en = EnergyBands(allEn, binSize_all)"
   ]
  },
  {
   "cell_type": "code",
   "execution_count": 12,
   "metadata": {},
   "outputs": [
    {
     "ename": "NameError",
     "evalue": "name 'all_en' is not defined",
     "output_type": "error",
     "traceback": [
      "\u001b[0;31m---------------------------------------------------------------------------\u001b[0m",
      "\u001b[0;31mNameError\u001b[0m                                 Traceback (most recent call last)",
      "\u001b[0;32m<ipython-input-12-84794139a754>\u001b[0m in \u001b[0;36m<module>\u001b[0;34m\u001b[0m\n\u001b[0;32m----> 1\u001b[0;31m \u001b[0mprint\u001b[0m\u001b[0;34m(\u001b[0m\u001b[0mall_en\u001b[0m\u001b[0;34m.\u001b[0m\u001b[0msigmafit_popt\u001b[0m\u001b[0;34m)\u001b[0m \u001b[0;31m#what is wrong?! - it should be 85\u001b[0m\u001b[0;34m\u001b[0m\u001b[0;34m\u001b[0m\u001b[0m\n\u001b[0m\u001b[1;32m      2\u001b[0m \u001b[0mprint\u001b[0m\u001b[0;34m(\u001b[0m\u001b[0mnp\u001b[0m\u001b[0;34m.\u001b[0m\u001b[0msqrt\u001b[0m\u001b[0;34m(\u001b[0m\u001b[0mall_en\u001b[0m\u001b[0;34m.\u001b[0m\u001b[0msigmafit_pcov\u001b[0m\u001b[0;34m)\u001b[0m\u001b[0;34m)\u001b[0m\u001b[0;34m\u001b[0m\u001b[0;34m\u001b[0m\u001b[0m\n",
      "\u001b[0;31mNameError\u001b[0m: name 'all_en' is not defined"
     ]
    }
   ],
   "source": [
    "print(all_en.sigmafit_popt) #what is wrong?! - it should be 85\n",
    "print(np.sqrt(all_en.sigmafit_pcov))"
   ]
  },
  {
   "cell_type": "code",
   "execution_count": 13,
   "metadata": {},
   "outputs": [
    {
     "data": {
      "text/plain": [
       "[<matplotlib.lines.Line2D at 0x1314f3f950>]"
      ]
     },
     "execution_count": 13,
     "metadata": {},
     "output_type": "execute_result"
    },
    {
     "data": {
      "image/png": "[encoded data removed]",
      "text/plain": [
       "<Figure size 432x288 with 1 Axes>"
      ]
     },
     "metadata": {
      "needs_background": "light"
     },
     "output_type": "display_data"
    }
   ],
   "source": [
    "plt.plot(altArray, msisRho, 'r.')"
   ]
  },
  {
   "cell_type": "code",
   "execution_count": 14,
   "metadata": {},
   "outputs": [
    {
     "ename": "NameError",
     "evalue": "name 'all_en' is not defined",
     "output_type": "error",
     "traceback": [
      "\u001b[0;31m---------------------------------------------------------------------------\u001b[0m",
      "\u001b[0;31mNameError\u001b[0m                                 Traceback (most recent call last)",
      "\u001b[0;32m<ipython-input-14-37701050311c>\u001b[0m in \u001b[0;36m<module>\u001b[0;34m\u001b[0m\n\u001b[0;32m----> 1\u001b[0;31m \u001b[0mplt\u001b[0m\u001b[0;34m.\u001b[0m\u001b[0mplot\u001b[0m\u001b[0;34m(\u001b[0m\u001b[0mall_en\u001b[0m\u001b[0;34m.\u001b[0m\u001b[0mnew_alt\u001b[0m\u001b[0;34m,\u001b[0m \u001b[0mall_en\u001b[0m\u001b[0;34m.\u001b[0m\u001b[0mperc_trans\u001b[0m\u001b[0;34m,\u001b[0m \u001b[0;34m'r.'\u001b[0m\u001b[0;34m)\u001b[0m\u001b[0;34m\u001b[0m\u001b[0;34m\u001b[0m\u001b[0m\n\u001b[0m\u001b[1;32m      2\u001b[0m \u001b[0mplt\u001b[0m\u001b[0;34m.\u001b[0m\u001b[0mplot\u001b[0m\u001b[0;34m(\u001b[0m\u001b[0mall_en\u001b[0m\u001b[0;34m.\u001b[0m\u001b[0mnew_alt\u001b[0m\u001b[0;34m,\u001b[0m \u001b[0mTransmit\u001b[0m\u001b[0;34m(\u001b[0m\u001b[0mall_en\u001b[0m\u001b[0;34m.\u001b[0m\u001b[0mnew_alt\u001b[0m\u001b[0;34m,\u001b[0m \u001b[0mall_en\u001b[0m\u001b[0;34m.\u001b[0m\u001b[0mrho_msis\u001b[0m\u001b[0;34m,\u001b[0m \u001b[0mall_en\u001b[0m\u001b[0;34m.\u001b[0m\u001b[0msigmafit_popt\u001b[0m\u001b[0;34m)\u001b[0m\u001b[0;34m,\u001b[0m \u001b[0;34m'k--'\u001b[0m\u001b[0;34m)\u001b[0m\u001b[0;34m\u001b[0m\u001b[0;34m\u001b[0m\u001b[0m\n",
      "\u001b[0;31mNameError\u001b[0m: name 'all_en' is not defined"
     ]
    }
   ],
   "source": [
    "plt.plot(all_en.new_alt, all_en.perc_trans, 'r.')\n",
    "plt.plot(all_en.new_alt, Transmit(all_en.new_alt, all_en.rho_msis, all_en.sigmafit_popt), 'k--')"
   ]
  },
  {
   "cell_type": "code",
   "execution_count": 15,
   "metadata": {},
   "outputs": [
    {
     "ename": "NameError",
     "evalue": "name 'all_en' is not defined",
     "output_type": "error",
     "traceback": [
      "\u001b[0;31m---------------------------------------------------------------------------\u001b[0m",
      "\u001b[0;31mNameError\u001b[0m                                 Traceback (most recent call last)",
      "\u001b[0;32m<ipython-input-15-bfb879ef33ee>\u001b[0m in \u001b[0;36m<module>\u001b[0;34m\u001b[0m\n\u001b[0;32m----> 1\u001b[0;31m \u001b[0mprint\u001b[0m\u001b[0;34m(\u001b[0m\u001b[0mnp\u001b[0m\u001b[0;34m.\u001b[0m\u001b[0mmean\u001b[0m\u001b[0;34m(\u001b[0m\u001b[0mall_en\u001b[0m\u001b[0;34m.\u001b[0m\u001b[0mnew_alt\u001b[0m\u001b[0;34m)\u001b[0m\u001b[0;34m)\u001b[0m\u001b[0;34m\u001b[0m\u001b[0;34m\u001b[0m\u001b[0m\n\u001b[0m",
      "\u001b[0;31mNameError\u001b[0m: name 'all_en' is not defined"
     ]
    }
   ],
   "source": [
    "print(np.mean(all_en.new_alt))"
   ]
  },
  {
   "cell_type": "code",
   "execution_count": null,
   "metadata": {},
   "outputs": [],
   "source": [
    "print(np.mean(all_en.perc_trans))"
   ]
  },
  {
   "cell_type": "code",
   "execution_count": null,
   "metadata": {},
   "outputs": [],
   "source": [
    "print(np.mean(all_en.rho_msis))"
   ]
  },
  {
   "cell_type": "code",
   "execution_count": null,
   "metadata": {},
   "outputs": [],
   "source": [
    "all_en.L_msis"
   ]
  },
  {
   "cell_type": "code",
   "execution_count": null,
   "metadata": {},
   "outputs": [],
   "source": [
    "altSplit(lowEn)"
   ]
  },
  {
   "cell_type": "code",
   "execution_count": null,
   "metadata": {},
   "outputs": [],
   "source": [
    "altSplit(allEn)"
   ]
  },
  {
   "cell_type": "code",
   "execution_count": null,
   "metadata": {},
   "outputs": [],
   "source": [
    "len(height)\n"
   ]
  },
  {
   "cell_type": "code",
   "execution_count": null,
   "metadata": {},
   "outputs": [],
   "source": [
    "len(altArray)"
   ]
  },
  {
   "cell_type": "code",
   "execution_count": null,
   "metadata": {},
   "outputs": [],
   "source": [
    "print(len(msisRho))"
   ]
  },
  {
   "cell_type": "code",
   "execution_count": null,
   "metadata": {},
   "outputs": [],
   "source": [
    "print(len(low_en.rho_msis))"
   ]
  },
  {
   "cell_type": "code",
   "execution_count": null,
   "metadata": {},
   "outputs": [],
   "source": [
    "len(low_en.alt)"
   ]
  },
  {
   "cell_type": "code",
   "execution_count": null,
   "metadata": {},
   "outputs": [],
   "source": []
  }
 ],
 "metadata": {
  "kernelspec": {
   "display_name": "Python 3",
   "language": "python",
   "name": "python3"
  },
  "language_info": {
   "codemirror_mode": {
    "name": "ipython",
    "version": 3
   },
   "file_extension": ".py",
   "mimetype": "text/x-python",
   "name": "python",
   "nbconvert_exporter": "python",
   "pygments_lexer": "ipython3",
   "version": "3.7.6"
  }
 },
 "nbformat": 4,
 "nbformat_minor": 4
}

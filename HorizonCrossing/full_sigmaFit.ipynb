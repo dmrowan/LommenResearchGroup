{
 "cells": [
  {
   "cell_type": "code",
   "execution_count": 1,
   "metadata": {},
   "outputs": [],
   "source": [
    "from astropy.table import Table\n",
    "import numpy as np\n",
    "from scipy import interpolate\n",
    "from scipy.optimize import curve_fit\n",
    "from astropy.io import ascii\n",
    "import matplotlib.pyplot as plt\n",
    "import datetime\n",
    "import numbers\n",
    "# from scipy.integrate import quad\n",
    "\n",
    "# Time range around the horizon crossing\n",
    "startTime = 390+1.92224*10**8\n",
    "stopTime = 500+1.92224*10**8\n",
    "\n",
    "# indices of full crossing\n",
    "startTimeIndex = 311869\n",
    "stopTimeIndex = 449115\n",
    "\n",
    "startMKF = 2264 - 15 #exact start at -18...missing some data points before\n",
    "stopMKF = 2374 + 184\n",
    "\n",
    "# read in the data files\n",
    "tabMKF = Table.read('ni2200300102.mkf', hdu=1)\n",
    "timeMKF = np.array(tabMKF['TIME'][startMKF:stopMKF])\n",
    "elevMKF = np.array(tabMKF['ELV'][startMKF:stopMKF])\n",
    "ramMKF = np.array(tabMKF['RAM_ANGLE'][startMKF:stopMKF])\n",
    "pointing_unit = np.array(tabMKF['PNTUNIT'][startMKF:stopMKF])\n",
    "position = np.array(tabMKF['POSITION'][startMKF:stopMKF])\n",
    "position_mag = np.array(np.sqrt((position[:,0])**2+(position[:,1])**2+(tabMKF['POSITION'][startMKF:stopMKF][:,2])**2))\n",
    "velocity = np.array(tabMKF['VELOCITY'][startMKF:stopMKF])\n",
    "velocity_mag = np.array(np.sqrt((velocity[:,0])**2+(velocity[:,1])**2+(velocity[:,2])**2))\n",
    "# make unit vectors\n",
    "for col in range(3):\n",
    "    velocity[:,col] = velocity[:,col]/velocity_mag\n",
    "    position[:,col] = position[:,col]/position_mag\n",
    "pole_vec = np.cross(position,velocity)\n",
    "\n",
    "# calculate orbital phase angle\n",
    "ascending_node = np.cross(pole_vec, [0,0,1])\n",
    "ascending_mag = np.sqrt(ascending_node[:,0]**2 + ascending_node[:,1]**2)\n",
    "for col in range(3):\n",
    "    ascending_node[:,col] = ascending_node[:,col]/ascending_mag\n",
    "orbital_phase = np.rad2deg(np.arccos(ascending_node[:,0]*position[:,0] + ascending_node[:,1]*position[:,1] + ascending_node[:,2]*position[:,2]))\n",
    "# It has to be p cross z, or else we are not moving away from the ascending node\n",
    "\n",
    "R = 6378\n",
    "H = 419\n",
    "theta = np.arcsin(R/(R+H))\n",
    "beta = elevMKF + np.rad2deg(theta)\n",
    "\n",
    "#Tangent altitude of line of sight is based on elevation angle\n",
    "altMKF = []\n",
    "for indx, val in enumerate(elevMKF):\n",
    "    h = (((R+H)*np.sin(theta+val*(np.pi/180)))-R)\n",
    "    altMKF.append(h)\n",
    "altMKF = np.array(altMKF)\n",
    "betaMKF = np.rad2deg(np.arcsin((R+altMKF)/(R+H)))\n",
    "\n",
    "tabEVT = Table.read('cleanfilt.evt', hdu=1)\n",
    "eventTime = np.array(tabEVT['TIME'][startTimeIndex:stopTimeIndex])\n",
    "enArray = np.array(tabEVT['PI'][startTimeIndex:stopTimeIndex])\n",
    "\n",
    "# We have to sync up the two data files\n",
    "def Interpolator(col_mkf):\n",
    "    f = interpolate.interp1d(timeMKF, col_mkf, kind='linear')\n",
    "    return f(eventTime)\n",
    "\n",
    "elev_evt = Interpolator(elevMKF)\n",
    "ram_evt = Interpolator(ramMKF)\n",
    "Xcoord = Interpolator(position[:,0])\n",
    "Ycoord = Interpolator(position[:,1])\n",
    "Zcoord = Interpolator(position[:,2])\n",
    "phase_evt = Interpolator(orbital_phase)\n",
    "\n",
    "# calculate tangent altitude based on elevation angle\n",
    "altArray = []\n",
    "for indx, val in enumerate(elev_evt):\n",
    "    h = (((R+H)*np.sin(theta+val*(np.pi/180)))-R)\n",
    "    altArray.append(np.float(h))\n",
    "altArray = np.array(altArray)\n",
    "#beta = np.arcsin((R+altArray)/(R+H))\n",
    "\n",
    "\n",
    "# read in MSIS model data\n",
    "data = ascii.read(\"msis_419.txt\")\n",
    "\n",
    "height = np.array(data['h'])\n",
    "density = np.array(data['dens'])\n",
    "temp = np.array(data['T'])\n",
    "\n",
    "\n",
    "def msisSync(Y_msis):\n",
    "    height[0] = altArray[0]\n",
    "    height[len(height)-1] = altArray[len(altArray)-1]\n",
    "    func = interpolate.interp1d(height, Y_msis)\n",
    "    return np.array(func(altArray))\n",
    "\n",
    "\n",
    "msisRho = msisSync(density)\n",
    "msisT = msisSync(temp)"
   ]
  },
  {
   "cell_type": "code",
   "execution_count": 2,
   "metadata": {},
   "outputs": [],
   "source": [
    "# constants\n",
    "binSize_all = 1\n",
    "k = 1.38064852e-23\n",
    "mu = 28\n",
    "mp = 1.6726219e-27\n",
    "g = 9.8\n",
    "# L = (k*T)/(1000*mu*mp*g)\n",
    "z0 = 135\n",
    "# p0 = 0.0012*np.exp(-z0/L)\n",
    "\n",
    "\n",
    "class EnergyBands:\n",
    "\n",
    "    def __init__(self, energy_band, bin_size):\n",
    "        self.energy_band = energy_band\n",
    "        self.bin_size = bin_size\n",
    "        self.time, self.energies = EnergyBands.enSplit(self)\n",
    "        self.new_alt, self.elev, self.phase = EnergyBands.altSplit(self)\n",
    "        self.rate, self.binnedElev, self.new_alt, self.binTime, self.binnedEnergy, self.binnedX, self.binnedY, self.binnedZ, self.binnedPhase = EnergyBands.countRate(self)\n",
    "        self.T_pre = EnergyBands.msisSplit(self, msisT)\n",
    "        self.rho_pre = EnergyBands.msisSplit(self, msisRho)\n",
    "        self.rho_msis, self.T_msis = EnergyBands.countRateSync(self)\n",
    "        self.perc_trans = EnergyBands.percTrans(self)\n",
    "        self.sigmafit_popt, self.sigmafit_pcov = EnergyBands.modelFit_sigma(self)\n",
    "\n",
    "        \n",
    "    def altSplit(self):\n",
    "        index = np.where((enArray >= self.energy_band[0]) & (\n",
    "            enArray < self.energy_band[1]))\n",
    "        return altArray[index[0]], elev_evt[index[0]], phase_evt[index[0]]\n",
    "\n",
    "    # function that deduces the number of counts per bin size\n",
    "    def countRate(self):\n",
    "        binCounts = []\n",
    "        binTime = []\n",
    "        altitude = []\n",
    "        binnedEnergy = []\n",
    "        binnedX = []\n",
    "        binnedY = []\n",
    "        binnedZ = []\n",
    "        binElev = []\n",
    "        binnedPhase = []\n",
    "        for i in np.arange(min(self.time), max(self.time)+self.bin_size, self.bin_size):\n",
    "            desind = np.where((self.time >= i) & (self.time < i + self.bin_size))\n",
    "            if len(desind[0]) != 0:\n",
    "                binCounts.append(np.size(desind[0]))\n",
    "                altitude.append(np.mean(self.new_alt[desind[0]]))\n",
    "                binTime.append(np.mean(self.time[desind[0]]))\n",
    "                binnedEnergy.append(np.mean(self.energies[desind[0]]))\n",
    "                binnedX.append(np.mean(Xcoord[desind[0]]))\n",
    "                binnedY.append(np.mean(Ycoord[desind[0]]))\n",
    "                binnedZ.append(np.mean(Zcoord[desind[0]]))\n",
    "                binElev.append(np.mean(self.elev[desind[0]]))\n",
    "                binnedPhase.append(np.mean(self.phase[desind[0]]))\n",
    "        return np.array(binCounts), np.array(binElev), np.array(altitude), np.array(binTime), np.array(binnedEnergy), np.array(binnedX), np.array(binnedY), np.array(binnedZ), np.array(binnedPhase)\n",
    "\n",
    "    def msisSplit(self, msis_col):\n",
    "        index = np.where((enArray >= self.energy_band[0]) & (enArray < self.energy_band[1]))\n",
    "        return msis_col[index[0]]\n",
    "\n",
    "    def countRateSync(self):\n",
    "        rho = []\n",
    "        temp = []\n",
    "        for i in np.arange(min(self.time), max(self.time)+self.bin_size, self.bin_size):\n",
    "            desind = np.where((self.time >= i) & (self.time < i + self.bin_size))\n",
    "            if len(desind[0]) != 0:\n",
    "                rho.append(np.mean(self.rho_pre[desind[0]]))\n",
    "                temp.append(np.mean(self.T_pre[desind[0]]))\n",
    "        return np.array(rho), np.array(temp)\n",
    "\n",
    "    # function that makes a list of times corresponding to each energy range\n",
    "    def enSplit(self):\n",
    "        index = np.where((enArray >= self.energy_band[0]) & (\n",
    "            enArray < self.energy_band[1]))\n",
    "        return eventTime[index[0]], enArray[index[0]]/100\n",
    "\n",
    "    def percTrans(self):\n",
    "        plateau = np.where(((self.new_alt > 250) & (self.new_alt < 300)))\n",
    "        avg = np.mean(self.rate[plateau[0]])\n",
    "        return (self.rate/avg)*100\n",
    "    \n",
    "    @property\n",
    "    def normFactor(self):\n",
    "        plateau = np.where(((self.new_alt > 250) & (self.new_alt < 300)))\n",
    "        avg = np.mean(self.rate[plateau[0]])\n",
    "        return avg\n",
    "\n",
    "    # functions for the atmospheric model\n",
    "    @property\n",
    "    def atmHeight(self):\n",
    "        return np.array((k*self.T_msis)/(1000*mu*mp*g))\n",
    "  \n",
    "    def Z_x(self, hi, x):\n",
    "        z = np.int(np.sqrt((R+self.new_alt[hi])**2+x**2)-R)\n",
    "        if z > (len(self.new_alt)-1):\n",
    "            return len(self.new_alt)-1\n",
    "        else:\n",
    "            return z\n",
    "    \n",
    "    def Transmit2(self, Alt, sigma):\n",
    "        tau = []\n",
    "        halfDist = np.sqrt((R+H)**2-(R+self.new_alt)**2)\n",
    "        for hi in range(len(self.new_alt)):\n",
    "            g = 0\n",
    "            intStepSize = 1\n",
    "            upperBound1 = halfDist[hi]\n",
    "            X1 = np.arange(0, upperBound1, intStepSize)\n",
    "            for n in X1:\n",
    "                g += self.rho_msis[hi]*intStepSize*10**5 #EnergyBands.Z_x(self, hi, n)\n",
    "\n",
    "            tau.append(2*sigma*g)\n",
    "        tau = np.array(tau)\n",
    "        trans = np.exp(-tau)\n",
    "        return trans*self.normFactor\n",
    "    \n",
    "    def modelFit_sigma(self):\n",
    "        popt, pcov = curve_fit(self.Transmit2, self.new_alt, self.rate)\n",
    "        return popt, pcov"
   ]
  },
  {
   "cell_type": "code",
   "execution_count": 3,
   "metadata": {},
   "outputs": [
    {
     "data": {
      "text/plain": [
       "<matplotlib.legend.Legend at 0x1318b9e990>"
      ]
     },
     "execution_count": 3,
     "metadata": {},
     "output_type": "execute_result"
    },
    {
     "data": {
      "image/png": "[encoded data removed]",
      "text/plain": [
       "<Figure size 432x288 with 1 Axes>"
      ]
     },
     "metadata": {
      "needs_background": "light"
     },
     "output_type": "display_data"
    }
   ],
   "source": [
    "#Energy bands\n",
    "width = 15 #0.15 keV\n",
    "for val in np.arange(75, 600, width):\n",
    "    locals()[\"EnRange\"+str(val)] = [val, val+width]\n",
    "    locals()[\"En\"+str(val)] = EnergyBands(locals()[\"EnRange\"+str(val)], binSize_all)\n",
    "\n",
    "\n",
    "sigmalist = []\n",
    "sigmaError = []\n",
    "energylist = []\n",
    "\n",
    "\n",
    "for val in np.arange(75, 600, width):\n",
    "    sigmalist.append(locals()[\"En\"+str(val)].sigmafit_popt)\n",
    "    sigmaError.append(locals()[\"En\"+str(val)].sigmafit_pcov)\n",
    "    energylist.append(np.mean(locals()[\"En\"+str(val)].binnedEnergy))\n",
    "    \n",
    "\n",
    "yerr = []\n",
    "for val in sigmaError:\n",
    "    yerr.append(np.sqrt(val[0][0]))\n",
    "    \n",
    "xerr = np.zeros(len(yerr))\n",
    "\n",
    "plt.errorbar(energylist, sigmalist, xerr=xerr, yerr=yerr, fmt='b.', label='Bin Size = 0.15 keV')\n",
    "plt.title('Sigma vs Mean Energy')\n",
    "plt.xlabel('Mean Energy (keV)')\n",
    "plt.ylabel(r'Cross Section $\\frac{cm^2}{g}$')\n",
    "plt.grid()\n",
    "plt.legend()"
   ]
  },
  {
   "cell_type": "code",
   "execution_count": 4,
   "metadata": {},
   "outputs": [],
   "source": [
    "sigma1D = []\n",
    "sigmaError1D = []\n",
    "for i in range(len(sigmalist)):\n",
    "    sigma1D.append(sigmalist[i][0])\n",
    "    sigmaError1D.append(sigmaError[i][0][0])\n",
    "    \n",
    "sigma1D = np.array(sigma1D)\n",
    "energylist = np.array(energylist)\n",
    "sigmaError1D = np.array(np.sqrt(sigmaError1D))"
   ]
  },
  {
   "cell_type": "code",
   "execution_count": 6,
   "metadata": {},
   "outputs": [
    {
     "data": {
      "text/plain": [
       "<matplotlib.legend.Legend at 0x1051c0850>"
      ]
     },
     "execution_count": 6,
     "metadata": {},
     "output_type": "execute_result"
    },
    {
     "data": {
      "image/png": "[encoded data removed]",
      "text/plain": [
       "<Figure size 432x288 with 1 Axes>"
      ]
     },
     "metadata": {
      "needs_background": "light"
     },
     "output_type": "display_data"
    }
   ],
   "source": [
    "def negCube(energy, a, b):\n",
    "    c = np.float(-3)\n",
    "    return a*energy**c + b\n",
    "\n",
    "%matplotlib inline\n",
    "plt.errorbar(energylist, sigma1D, yerr=sigmaError1D, fmt='b.', label='Bin Size = 0.15 keV')\n",
    "popt, pcov = curve_fit(negCube, energylist, sigma1D)\n",
    "plt.plot(energylist, negCube(energylist, *popt), 'r-')\n",
    "plt.title('Absorption Cross Section vs Mean Energy')\n",
    "plt.xlabel('Mean Energy (keV)')\n",
    "plt.ylabel(r'Cross Section $\\frac{cm^2}{g}$')\n",
    "plt.grid()\n",
    "plt.legend()"
   ]
  },
  {
   "cell_type": "code",
   "execution_count": 7,
   "metadata": {},
   "outputs": [
    {
     "data": {
      "text/plain": [
       "array([[24.09983107, -4.01907652],\n",
       "       [-4.01907652,  3.76535556]])"
      ]
     },
     "execution_count": 7,
     "metadata": {},
     "output_type": "execute_result"
    }
   ],
   "source": [
    "pcov"
   ]
  },
  {
   "cell_type": "code",
   "execution_count": 8,
   "metadata": {},
   "outputs": [
    {
     "data": {
      "text/plain": [
       "array([292.89518769,  -5.76781894])"
      ]
     },
     "execution_count": 8,
     "metadata": {},
     "output_type": "execute_result"
    }
   ],
   "source": [
    "popt"
   ]
  },
  {
   "cell_type": "code",
   "execution_count": 9,
   "metadata": {},
   "outputs": [
    {
     "data": {
      "text/plain": [
       "Power_divergenceResult(statistic=-31.49617006463309, pvalue=1.0)"
      ]
     },
     "execution_count": 9,
     "metadata": {},
     "output_type": "execute_result"
    }
   ],
   "source": [
    "from scipy.stats import chisquare\n",
    "chisquare(sigma1D, negCube(energylist, *popt))"
   ]
  },
  {
   "cell_type": "code",
   "execution_count": null,
   "metadata": {},
   "outputs": [],
   "source": []
  }
 ],
 "metadata": {
  "kernelspec": {
   "display_name": "Python 3",
   "language": "python",
   "name": "python3"
  },
  "language_info": {
   "codemirror_mode": {
    "name": "ipython",
    "version": 3
   },
   "file_extension": ".py",
   "mimetype": "text/x-python",
   "name": "python",
   "nbconvert_exporter": "python",
   "pygments_lexer": "ipython3",
   "version": "3.7.6"
  }
 },
 "nbformat": 4,
 "nbformat_minor": 4
}

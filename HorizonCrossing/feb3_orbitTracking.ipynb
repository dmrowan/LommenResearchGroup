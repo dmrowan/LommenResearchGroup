{
 "cells": [
  {
   "cell_type": "markdown",
   "metadata": {},
   "source": [
    "### Author: Nathaniel Ruhl\n",
    "### Date created: 01/29/2021\n",
    "### Description: This notebook tracks the ISS orbit from the 180 degree point via a perfectly circular orbit in the perifocal frame\n"
   ]
  },
  {
   "cell_type": "code",
   "execution_count": 263,
   "metadata": {},
   "outputs": [],
   "source": [
    "import numpy as np\n",
    "import matplotlib.pyplot as plt\n",
    "from astropy.table import Table\n",
    "\n",
    "# Read in the mkf file\n",
    "tab_ni = Table.read('ni2200300102.mkf', hdu=1)\n",
    "timeMKF = np.array(tab_ni['TIME'])\n",
    "position = tab_ni['POSITION'] \n",
    "position_mag = np.array(np.sqrt((position[:,0])**2+(position[:,1])**2+(position[:,2])**2))\n",
    "velocity = tab_ni['VELOCITY']\n",
    "velocity_mag = np.array(np.sqrt((velocity[:,0])**2+(velocity[:,1])**2+(velocity[:,2])**2))\n",
    "\n",
    "for col in range(3):\n",
    "    velocity[:,col] = velocity[:,col]/velocity_mag\n",
    "    position[:,col] = position[:,col]/position_mag\n",
    "\n",
    "pole_vec = np.cross(position,velocity)"
   ]
  },
  {
   "cell_type": "code",
   "execution_count": 264,
   "metadata": {},
   "outputs": [],
   "source": [
    "# Estimated time and position of ISS at the 180 degree point\n",
    "t_180 = 192223307 # time0_offset-deltaT_50 from feb3_orbit_model.py\n",
    "RA0 = np.deg2rad(95)\n",
    "DEC0 = np.deg2rad(26) #i+delta_star\n",
    "\n",
    "def RADECtoGEO(alpha, delta):\n",
    "    x = np.array([np.cos(delta)*np.cos(alpha)])\n",
    "    y = np.array([np.cos(delta)*np.sin(alpha)])\n",
    "    z = np.array([np.sin(delta)])\n",
    "    return np.array([x, y, z])\n",
    "\n",
    "r0_ECI = RADECtoGEO(RA0, DEC0)"
   ]
  },
  {
   "cell_type": "code",
   "execution_count": 265,
   "metadata": {},
   "outputs": [
    {
     "name": "stdout",
     "output_type": "stream",
     "text": [
      "Keplerian orbital elements on feb 3\n",
      "RAAN = 72.10117\n",
      "Inclination = 51.54403\n",
      "Argument of perigee = 0.0\n"
     ]
    }
   ],
   "source": [
    "# Define constants\n",
    "\n",
    "R = 6371\n",
    "H = 420\n",
    "T = 5569.5 ## 5574\n",
    "omega_orb = 2 * np.pi / T  \n",
    "theta = np.arcsin(R/(R+H))\n",
    "\n",
    "# Calculate keplerian orbital elements from pole_vec and circular orbit\n",
    "oldStartMKF = 2264\n",
    "oldStopMKF = 2600\n",
    "Omega = np.arccos(-pole_vec[oldStartMKF,1]) # Right ascenion of ascending node (2x check if + or - in arccos?)\n",
    "i = np.arccos(pole_vec[oldStartMKF,2])\n",
    "omega = 0 # Argument of perigee\n",
    "print('Keplerian orbital elements on feb 3')\n",
    "print('RAAN = ' + str(np.rad2deg(Omega)))\n",
    "print('Inclination = ' + str(np.rad2deg(i)))\n",
    "print('Argument of perigee = ' + str(np.rad2deg(omega)))"
   ]
  },
  {
   "cell_type": "code",
   "execution_count": 266,
   "metadata": {},
   "outputs": [],
   "source": [
    "# Define matrix to convert from ECI to perifocal frame\n",
    "\n",
    "Q = np.array([[np.cos(Omega)*np.cos(omega)-np.sin(Omega)*np.sin(omega)*np.cos(i),np.sin(Omega)*np.cos(omega)+np.cos(Omega)*np.cos(i)*np.sin(omega),np.sin(i)*np.sin(Omega)],\n",
    "             [-np.cos(Omega)*np.sin(omega)-np.sin(Omega)*np.cos(i)*np.cos(omega),-np.sin(Omega)*np.sin(omega)+np.cos(Omega)*np.cos(i)*np.cos(omega),np.sin(i)*np.cos(omega)],\n",
    "             [np.sin(Omega)*np.sin(i),-np.cos(Omega)*np.sin(i),np.cos(i)]])"
   ]
  },
  {
   "cell_type": "code",
   "execution_count": 267,
   "metadata": {},
   "outputs": [
    {
     "name": "stdout",
     "output_type": "stream",
     "text": [
      "[[ 0.89951986]\n",
      " [ 0.4368788 ]\n",
      " [-0.00096321]]\n"
     ]
    }
   ],
   "source": [
    "# This is a good sign that the z coordinate is zero\n",
    "r0_Per = np.dot(Q,r0_ECI)/np.linalg.norm(np.dot(Q,r0_ECI))\n",
    "print(r0_Per)"
   ]
  },
  {
   "cell_type": "code",
   "execution_count": 290,
   "metadata": {},
   "outputs": [],
   "source": [
    "# Create model orbit starting at r0_Per\n",
    "phi = np.arange(0,2*np.pi/4,omega_orb) # Orbital Phase from 180 degree point to a quarter period later\n",
    "t = t_180+(phi/omega_orb) # time array for mkf comparison"
   ]
  },
  {
   "cell_type": "code",
   "execution_count": 291,
   "metadata": {},
   "outputs": [],
   "source": [
    "# Propogate the orbit over time, calculating r_Per at every step\n",
    "\n",
    "r_Per = np.zeros((len(phi),3))\n",
    "\n",
    "for row in range(len(phi)):\n",
    "    for col in range(3):\n",
    "        if (col == 0):\n",
    "            r_Per[row,col]=np.cos(phi[row]) # x coordinate\n",
    "        if (col == 1):\n",
    "            r_Per[row,col]=np.sin(phi[row]) # y coordinate\n",
    "        if (col == 2):\n",
    "            r[row,col]=0 # z coordinate\n",
    "\n",
    "# Convert position from perifocal frame to geocentric frame\n",
    "                 \n",
    "r_ECI = np.zeros((len(phi),3))\n",
    "\n",
    "for row in range(len(phi)):\n",
    "    r_ECI[row] = np.dot(np.matrix.transpose(Q),r_Per[row])\n"
   ]
  },
  {
   "cell_type": "code",
   "execution_count": 301,
   "metadata": {},
   "outputs": [
    {
     "data": {
      "text/plain": [
       "<matplotlib.legend.Legend at 0x119145b80>"
      ]
     },
     "execution_count": 301,
     "metadata": {},
     "output_type": "execute_result"
    },
    {
     "data": {
      "image/png": "[encoded data removed]",
      "text/plain": [
       "<Figure size 432x288 with 1 Axes>"
      ]
     },
     "metadata": {
      "needs_background": "light"
     },
     "output_type": "display_data"
    }
   ],
   "source": [
    "plt.title('X coordinate vs. Time')\n",
    "plt.plot(timeMKF[oldStartMKF:oldStopMKF],position_mag[oldStartMKF:oldStopMKF]*position[oldStartMKF:oldStopMKF,0],'.',label='Data')\n",
    "plt.plot(t,R*r_ECI[:,0],'.',label='HC model')\n",
    "plt.ylabel('km')\n",
    "plt.xlabel('sec')\n",
    "plt.legend()"
   ]
  },
  {
   "cell_type": "code",
   "execution_count": 300,
   "metadata": {},
   "outputs": [
    {
     "data": {
      "text/plain": [
       "<matplotlib.legend.Legend at 0x118e06040>"
      ]
     },
     "execution_count": 300,
     "metadata": {},
     "output_type": "execute_result"
    },
    {
     "data": {
      "image/png": "[encoded data removed]",
      "text/plain": [
       "<Figure size 432x288 with 1 Axes>"
      ]
     },
     "metadata": {
      "needs_background": "light"
     },
     "output_type": "display_data"
    }
   ],
   "source": [
    "plt.title('Y coordinate vs. Time')\n",
    "plt.plot(timeMKF[oldStartMKF:oldStopMKF],position_mag[oldStartMKF:oldStopMKF]*position[oldStartMKF:oldStopMKF,1],'.',label='Data')\n",
    "plt.plot(t,R*r_ECI[:,1],'.',label='HC model')\n",
    "plt.ylabel('km')\n",
    "plt.xlabel('sec')\n",
    "plt.legend()"
   ]
  },
  {
   "cell_type": "code",
   "execution_count": 299,
   "metadata": {},
   "outputs": [
    {
     "data": {
      "text/plain": [
       "<matplotlib.legend.Legend at 0x119eb71c0>"
      ]
     },
     "execution_count": 299,
     "metadata": {},
     "output_type": "execute_result"
    },
    {
     "data": {
      "image/png": "[encoded data removed]",
      "text/plain": [
       "<Figure size 432x288 with 1 Axes>"
      ]
     },
     "metadata": {
      "needs_background": "light"
     },
     "output_type": "display_data"
    }
   ],
   "source": [
    "plt.title('Z coordinate vs. Time')\n",
    "plt.plot(timeMKF,position_mag*position[:,2],'.',label='Data')\n",
    "plt.plot(t,R*r_ECI[:,2],'.',label='HC model')\n",
    "plt.ylabel('km')\n",
    "plt.xlabel('sec')\n",
    "plt.legend()"
   ]
  },
  {
   "cell_type": "code",
   "execution_count": 315,
   "metadata": {},
   "outputs": [],
   "source": [
    "t1_index_model = np.where(t>timeMKF[oldStartMKF])[0][0] # index when the model meets up with the data"
   ]
  },
  {
   "cell_type": "code",
   "execution_count": 326,
   "metadata": {},
   "outputs": [
    {
     "name": "stdout",
     "output_type": "stream",
     "text": [
      "Accuracy of model at t1:\n",
      "X: 1668km\n",
      "Y: 498km\n",
      "Z: 9740km\n"
     ]
    }
   ],
   "source": [
    "print('Accuracy of model at t1:')\n",
    "print('X: ' + str(int(np.abs(position_mag[oldStartMKF]*position[oldStartMKF,0]-R*r_ECI[t1_index_model,0]))) + 'km')\n",
    "print('Y: ' + str(int(np.abs(position_mag[oldStartMKF]*position[oldStartMKF,1]-R*r_ECI[t1_index_model,1]))) + 'km')\n",
    "print('Z: ' + str(int(np.abs(position_mag[oldStartMKF]*position[oldStartMKF,2]-R*r_ECI[t1_index_model,2]))) + 'km')"
   ]
  },
  {
   "cell_type": "markdown",
   "metadata": {},
   "source": [
    "After improving this  method, a possible next step is to calculate the velocity from our calculation. It may be hard to get a highly accurate position with this method, but if improved, it looks extremely promising. If we can get the X and Z plots looking like the Y plot, the velocity vector (slop of position) should be almost exact. We can then use this velocity as an input to either the pointing vector basis change method I developed and/or r=cross(v,w). This should produce a highly accurate position vector."
   ]
  },
  {
   "cell_type": "code",
   "execution_count": null,
   "metadata": {},
   "outputs": [],
   "source": []
  }
 ],
 "metadata": {
  "kernelspec": {
   "display_name": "Python 3",
   "language": "python",
   "name": "python3"
  },
  "language_info": {
   "codemirror_mode": {
    "name": "ipython",
    "version": 3
   },
   "file_extension": ".py",
   "mimetype": "text/x-python",
   "name": "python",
   "nbconvert_exporter": "python",
   "pygments_lexer": "ipython3",
   "version": "3.8.5"
  }
 },
 "nbformat": 4,
 "nbformat_minor": 4
}

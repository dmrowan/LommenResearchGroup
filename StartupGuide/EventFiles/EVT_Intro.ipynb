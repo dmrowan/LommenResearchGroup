{
 "cells": [
  {
   "cell_type": "markdown",
   "metadata": {},
   "source": [
    "# Introduction to Event Files\n",
    "\n",
    "We can think of the NICER telescope as a giant X-ray photon bucket sitting on the ISS. It's job is to detect X-ray photons and measure their arrival time and energy. \n",
    "\n",
    "Each photon is called an event. After data reduction, most analysis will involve an 'event file' in some capacity. These event files, with extension '.evt', contain a table giving the arrivial time, energy, and other information about each detected photon. \n",
    "\n",
    "In this example we show how to read in an event file corresponding to ~2 years of PSR B1937+21 observations and construct a pulse profile. "
   ]
  },
  {
   "cell_type": "code",
   "execution_count": 2,
   "metadata": {},
   "outputs": [],
   "source": [
    "import datetime\n",
    "import matplotlib.pyplot as plt\n",
    "\n",
    "from astropy.table import Table"
   ]
  },
  {
   "cell_type": "markdown",
   "metadata": {},
   "source": [
    "Our main tool will be the astropy table. Under the hood, an events file is a FITS file. This means it uses header/data units (HDUs) to store the information. The 0th HDU doesn't contain a table. Let's read in the first HDU with Table.read"
   ]
  },
  {
   "cell_type": "code",
   "execution_count": 3,
   "metadata": {},
   "outputs": [
    {
     "data": {
      "text/html": [
       "<i>Table masked=True length=618026</i>\n",
       "<table id=\"table139881110110160\" class=\"table-striped table-bordered table-condensed\">\n",
       "<thead><tr><th>TIME</th><th>RAWX</th><th>RAWY</th><th>PHA</th><th>PHA_FAST</th><th>DET_ID</th><th>DEADTIME</th><th>EVENT_FLAGS [8]</th><th>TICK</th><th>MPU_A_TEMP</th><th>MPU_UNDER_COUNT</th><th>PI_FAST</th><th>PI</th><th>PI_RATIO</th><th>PULSE_PHASE</th></tr></thead>\n",
       "<thead><tr><th>s</th><th>pix</th><th>pix</th><th>chan</th><th>chan</th><th></th><th>s</th><th></th><th></th><th>Celsius</th><th></th><th>chan</th><th>chan</th><th></th><th></th></tr></thead>\n",
       "<thead><tr><th>float64</th><th>uint8</th><th>uint8</th><th>int16</th><th>int16</th><th>uint8</th><th>float64</th><th>bool</th><th>int64</th><th>float64</th><th>int32</th><th>int16</th><th>int16</th><th>float32</th><th>float64</th></tr></thead>\n",
       "<tr><td>110092734.163869113</td><td>4</td><td>6</td><td>658</td><td>--</td><td>30</td><td>0.000015195</td><td>False .. False</td><td>27372793382573</td><td>35.488</td><td>2</td><td>--</td><td>132</td><td>nan</td><td>0.25150223076343536</td></tr>\n",
       "<tr><td>110092736.183132783</td><td>4</td><td>6</td><td>375</td><td>--</td><td>30</td><td>0.000015195</td><td>False .. False</td><td>27372845486617</td><td>35.488</td><td>2</td><td>--</td><td>31</td><td>nan</td><td>0.5164873450994492</td></tr>\n",
       "<tr><td>110092736.588509619</td><td>4</td><td>0</td><td>590</td><td>537</td><td>17</td><td>0.000022637</td><td>False .. False</td><td>27376866386826</td><td>34.321</td><td>2</td><td>78</td><td>87</td><td>1.1153846</td><td>0.7478716820478439</td></tr>\n",
       "<tr><td>110092737.984718546</td><td>2</td><td>0</td><td>668</td><td>--</td><td>37</td><td>0.000015195</td><td>False .. False</td><td>27372891973812</td><td>35.488</td><td>2</td><td>--</td><td>103</td><td>nan</td><td>0.04323413968086243</td></tr>\n",
       "<tr><td>110092741.398286685</td><td>1</td><td>1</td><td>1771</td><td>1676</td><td>46</td><td>0.000022637</td><td>False .. False</td><td>27370028937001</td><td>33.579</td><td>3</td><td>533</td><td>532</td><td>0.9981238</td><td>0.3808726817369461</td></tr>\n",
       "<tr><td>110092742.323651791</td><td>0</td><td>5</td><td>1639</td><td>1564</td><td>63</td><td>0.000022637</td><td>False .. False</td><td>27366372949450</td><td>32.201</td><td>5</td><td>473</td><td>474</td><td>1.0021142</td><td>0.41832685470581055</td></tr>\n",
       "<tr><td>110092743.048320368</td><td>7</td><td>5</td><td>2959</td><td>2764</td><td>1</td><td>0.000022637</td><td>False .. False</td><td>27379491145885</td><td>33.579</td><td>2</td><td>970</td><td>1005</td><td>1.0360825</td><td>0.6187706142663956</td></tr>\n",
       "<tr><td>110092745.029541537</td><td>7</td><td>3</td><td>1175</td><td>1115</td><td>3</td><td>0.000022637</td><td>False .. False</td><td>27379542268410</td><td>33.473</td><td>2</td><td>304</td><td>313</td><td>1.0296053</td><td>0.46219660341739655</td></tr>\n",
       "<tr><td>110092747.738863051</td><td>4</td><td>0</td><td>619</td><td>594</td><td>17</td><td>0.000022637</td><td>False .. False</td><td>27377154107662</td><td>34.427</td><td>3</td><td>100</td><td>98</td><td>0.98</td><td>0.7089965641498566</td></tr>\n",
       "<tr><td>...</td><td>...</td><td>...</td><td>...</td><td>...</td><td>...</td><td>...</td><td>...</td><td>...</td><td>...</td><td>...</td><td>...</td><td>...</td><td>...</td><td>...</td></tr>\n",
       "<tr><td>142039018.640167803</td><td>4</td><td>4</td><td>861</td><td>--</td><td>32</td><td>0.000015195</td><td>False .. False</td><td>105135042652308</td><td>35.700</td><td>36</td><td>--</td><td>184</td><td>nan</td><td>0.554670438170433</td></tr>\n",
       "<tr><td>142039018.682989925</td><td>7</td><td>6</td><td>1139</td><td>1067</td><td>0</td><td>0.000022637</td><td>False .. False</td><td>105140473903388</td><td>34.109</td><td>31</td><td>291</td><td>293</td><td>1.0068729</td><td>0.04347817599773407</td></tr>\n",
       "<tr><td>142039021.279702306</td><td>4</td><td>4</td><td>424</td><td>--</td><td>32</td><td>0.000015195</td><td>False .. False</td><td>105135110761456</td><td>35.806</td><td>36</td><td>--</td><td>27</td><td>nan</td><td>0.9512229412794113</td></tr>\n",
       "<tr><td>142039021.624765128</td><td>0</td><td>4</td><td>617</td><td>--</td><td>65</td><td>0.000015195</td><td>False .. False</td><td>105129295870837</td><td>32.519</td><td>23</td><td>--</td><td>89</td><td>nan</td><td>0.45742107927799225</td></tr>\n",
       "<tr><td>142039025.133181483</td><td>1</td><td>0</td><td>854</td><td>--</td><td>47</td><td>0.000015195</td><td>False .. False</td><td>105133421055506</td><td>33.791</td><td>25</td><td>--</td><td>189</td><td>nan</td><td>0.6152980178594589</td></tr>\n",
       "<tr><td>142039026.400242060</td><td>7</td><td>0</td><td>672</td><td>692</td><td>6</td><td>0.000022637</td><td>False .. False</td><td>105140673035700</td><td>34.215</td><td>20</td><td>126</td><td>121</td><td>0.96031743</td><td>0.9795359820127487</td></tr>\n",
       "<tr><td>142039031.191405326</td><td>4</td><td>6</td><td>862</td><td>882</td><td>30</td><td>0.000022637</td><td>False .. False</td><td>105135366517766</td><td>35.806</td><td>33</td><td>198</td><td>204</td><td>1.030303</td><td>0.5710533559322357</td></tr>\n",
       "<tr><td>142039034.606524527</td><td>6</td><td>1</td><td>599</td><td>--</td><td>15</td><td>0.000015195</td><td>False .. False</td><td>105139570096506</td><td>34.851</td><td>38</td><td>--</td><td>98</td><td>nan</td><td>0.8385068774223328</td></tr>\n",
       "<tr><td>142039035.838526785</td><td>3</td><td>0</td><td>1113</td><td>1023</td><td>27</td><td>0.000022637</td><td>False .. False</td><td>105137294338452</td><td>35.275</td><td>31</td><td>264</td><td>286</td><td>1.0833334</td><td>0.6977049559354782</td></tr>\n",
       "<tr><td>142039036.244186044</td><td>3</td><td>6</td><td>2947</td><td>2528</td><td>40</td><td>0.000022637</td><td>False .. False</td><td>105133707758285</td><td>33.791</td><td>26</td><td>885</td><td>981</td><td>1.1084746</td><td>0.10253895819187164</td></tr>\n",
       "</table>"
      ],
      "text/plain": [
       "<Table masked=True length=618026>\n",
       "        TIME          RAWX  RAWY  PHA  ...   PI   PI_RATIO      PULSE_PHASE    \n",
       "         s            pix   pix   chan ...  chan                               \n",
       "      float64        uint8 uint8 int16 ... int16  float32         float64      \n",
       "-------------------- ----- ----- ----- ... ----- ---------- -------------------\n",
       " 110092734.163869113     4     6   658 ...   132        nan 0.25150223076343536\n",
       " 110092736.183132783     4     6   375 ...    31        nan  0.5164873450994492\n",
       " 110092736.588509619     4     0   590 ...    87  1.1153846  0.7478716820478439\n",
       " 110092737.984718546     2     0   668 ...   103        nan 0.04323413968086243\n",
       " 110092741.398286685     1     1  1771 ...   532  0.9981238  0.3808726817369461\n",
       " 110092742.323651791     0     5  1639 ...   474  1.0021142 0.41832685470581055\n",
       " 110092743.048320368     7     5  2959 ...  1005  1.0360825  0.6187706142663956\n",
       " 110092745.029541537     7     3  1175 ...   313  1.0296053 0.46219660341739655\n",
       " 110092747.738863051     4     0   619 ...    98       0.98  0.7089965641498566\n",
       "                 ...   ...   ...   ... ...   ...        ...                 ...\n",
       " 142039018.640167803     4     4   861 ...   184        nan   0.554670438170433\n",
       " 142039018.682989925     7     6  1139 ...   293  1.0068729 0.04347817599773407\n",
       " 142039021.279702306     4     4   424 ...    27        nan  0.9512229412794113\n",
       " 142039021.624765128     0     4   617 ...    89        nan 0.45742107927799225\n",
       " 142039025.133181483     1     0   854 ...   189        nan  0.6152980178594589\n",
       " 142039026.400242060     7     0   672 ...   121 0.96031743  0.9795359820127487\n",
       " 142039031.191405326     4     6   862 ...   204   1.030303  0.5710533559322357\n",
       " 142039034.606524527     6     1   599 ...    98        nan  0.8385068774223328\n",
       " 142039035.838526785     3     0  1113 ...   286  1.0833334  0.6977049559354782\n",
       " 142039036.244186044     3     6  2947 ...   981  1.1084746 0.10253895819187164"
      ]
     },
     "execution_count": 3,
     "metadata": {},
     "output_type": "execute_result"
    }
   ],
   "source": [
    "tab = Table.read('1937_events.evt', hdu=1)\n",
    "tab"
   ]
  },
  {
   "cell_type": "markdown",
   "metadata": {},
   "source": [
    "We printed the table above, and we can see that it contains a TON of rows, with each row corresponding to a photon. We have the time of arrival on the leftmost column. It's formatted as seconds from some \"time-zero\". I'll get back to that later. \n",
    "\n",
    "What other columns are interesting? Well, PI stands for pulse intensity, or energy. The units are slightly weird. For a given PI value, say 500, we can divide by 100 to get keV. So PI=500 means the photon had 5keV of energy.\n",
    "\n",
    "For this event file, we've already calculated the pulse phase. So we have a PULSE_PHASE column all the way on the right. This gives the phase of the pulsar with our timing model from 0 to 1. This is what we will use to make a profile.\n",
    "\n",
    "Before we do so, it is worth exploring what else is in the EVT. The meta-data contains other information about the observation. Here, we've merged a bunch of obsIDs. This process doesn't always keep track of the meta data correctly, but we'll still use it as an example. First, print the meta data, which stored as an ordered dictionary"
   ]
  },
  {
   "cell_type": "code",
   "execution_count": 10,
   "metadata": {},
   "outputs": [
    {
     "name": "stdout",
     "output_type": "stream",
     "text": [
      "EXTNAME EVENTS\n",
      "HDUCLASS OGIP\n",
      "HDUCLAS1 EVENTS\n",
      "DATAMODE PHOTON\n",
      "DATE 2018-03-04T00:29:35\n",
      "EXPOSURE 834312\n",
      "ONTIME 834312\n",
      "TIMEPIXR 0.0\n",
      "TIMEDEL 4e-08\n",
      "TIMEZERO -1.0\n"
     ]
    }
   ],
   "source": [
    "#There are a lot of keys so suppress the full print\n",
    "#print(tab.meta)\n",
    "\n",
    "#Print the first 10 keys\n",
    "for k in list(tab.meta.keys())[:10]:\n",
    "    print(k, tab.meta[k])"
   ]
  },
  {
   "cell_type": "markdown",
   "metadata": {},
   "source": [
    "Two of the most useful things will be the date and exposure of the observation. Let's print those:"
   ]
  },
  {
   "cell_type": "code",
   "execution_count": 11,
   "metadata": {},
   "outputs": [
    {
     "name": "stdout",
     "output_type": "stream",
     "text": [
      "2018-03-04T00:29:35\n",
      "834312\n"
     ]
    }
   ],
   "source": [
    "#Most useful things in meta is exposure and date\n",
    "\n",
    "print(tab.meta['DATE'])\n",
    "print(tab.meta['EXPOSURE'])"
   ]
  },
  {
   "cell_type": "markdown",
   "metadata": {},
   "source": [
    "We saw that the table gives time in seconds with some huge number. What's time zero? Well, it turns out its January 1st, 2014. (Reference: https://heasarc.gsfc.nasa.gov/docs/nicer/mission_guide/)\n",
    "\n",
    "We can use date time objects to convert"
   ]
  },
  {
   "cell_type": "code",
   "execution_count": 12,
   "metadata": {},
   "outputs": [],
   "source": [
    "def convert_time(time):\n",
    "    timezero = datetime.datetime(year=2014, month=1,\n",
    "                                 day=1, hour=0, minute=0, second=0)\n",
    "    new_time = timezero+datetime.timedelta(seconds=time)\n",
    "\n",
    "    return new_time\n"
   ]
  },
  {
   "cell_type": "code",
   "execution_count": 13,
   "metadata": {},
   "outputs": [
    {
     "name": "stdout",
     "output_type": "stream",
     "text": [
      "2018-07-02 23:16:58.640168\n"
     ]
    }
   ],
   "source": [
    "time_example = convert_time(142039018.640167803)\n",
    "print(time_example)"
   ]
  },
  {
   "cell_type": "markdown",
   "metadata": {},
   "source": [
    "Back to the pulse profile. We have a table with the phases of all of our photons. A pulse profile, sometimes known as a light curve, shows the distribution of these phases. Let's make a histogram with matplotlib\n",
    "\n",
    "Try changing the bins to see how the two pulses become easier/harder to identify."
   ]
  },
  {
   "cell_type": "code",
   "execution_count": 14,
   "metadata": {},
   "outputs": [
    {
     "data": {
      "image/png": "[encoded data removed]",
      "text/plain": [
       "<Figure size 864x432 with 1 Axes>"
      ]
     },
     "metadata": {
      "needs_background": "light"
     },
     "output_type": "display_data"
    }
   ],
   "source": [
    "phases = tab['PULSE_PHASE'] #Access the correct column of the evt table\n",
    "\n",
    "fig, ax = plt.subplots(1, 1, figsize=(12, 6))\n",
    "\n",
    "ax.hist(phases, bins=400, color='xkcd:darkblue')\n",
    "ax.set_ylabel(\"Counts\", fontsize=20)\n",
    "ax.set_xlabel(\"Pulse Phase\", fontsize=20)\n",
    "plt.show()"
   ]
  }
 ],
 "metadata": {
  "kernelspec": {
   "display_name": "Python 3",
   "language": "python",
   "name": "python3"
  },
  "language_info": {
   "codemirror_mode": {
    "name": "ipython",
    "version": 3
   },
   "file_extension": ".py",
   "mimetype": "text/x-python",
   "name": "python",
   "nbconvert_exporter": "python",
   "pygments_lexer": "ipython3",
   "version": "3.7.6"
  }
 },
 "nbformat": 4,
 "nbformat_minor": 4
}

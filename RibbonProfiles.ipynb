{
 "cells": [
  {
   "cell_type": "markdown",
   "metadata": {},
   "source": [
    "## RibbonProfiles.ipynb\n",
    "### Written by: Dom Rowan, 2019\n",
    "\n",
    "Use plotly ribbon plots to show the evolution of pulse profile as a function of energy. Different ranges/widths can be set manually. Plots exported using interactice plotly or via plotly website.\n",
    "\n",
    "### Example:\n",
    "<img src=\"example_ribbon.png\">"
   ]
  },
  {
   "cell_type": "code",
   "execution_count": 8,
   "metadata": {},
   "outputs": [],
   "source": [
    "import plotly.plotly as py\n",
    "import plotly.graph_objs as go\n",
    "import numpy as np\n",
    "from LCClass import LightCurve"
   ]
  },
  {
   "cell_type": "markdown",
   "metadata": {},
   "source": [
    "### Set path to evt file:"
   ]
  },
  {
   "cell_type": "code",
   "execution_count": null,
   "metadata": {},
   "outputs": [],
   "source": [
    "path = \"../PSR_J0218+4232_combined.evt\""
   ]
  },
  {
   "cell_type": "code",
   "execution_count": 6,
   "metadata": {},
   "outputs": [
    {
     "name": "stdout",
     "output_type": "stream",
     "text": [
      "[1.0, 2.0] 791.0 791.0\n",
      "[2.0, 3.0] 274.0 791.0\n",
      "[3.0, 4.0] 209.0 791.0\n",
      "[4.0, 5.0] 137.0 791.0\n",
      "[5.0, 6.0] 100.0 791.0\n"
     ]
    },
    {
     "data": {
      "text/html": [
       "<iframe id=\"igraph\" scrolling=\"no\" style=\"border:none;\" seamless=\"seamless\" src=\"https://plot.ly/~dmrowan/22.embed\" height=\"800px\" width=\"1000px\"></iframe>"
      ],
      "text/plain": [
       "<chart_studio.tools.PlotlyDisplay object>"
      ]
     },
     "execution_count": 6,
     "metadata": {},
     "output_type": "execute_result"
    }
   ],
   "source": [
    "ranges = [ [1.0, 2.0], [2.0, 3.0], [3.0, 4.0], [4.0, 5.0], [5.0, 6.0] ] # in keV\n",
    "\n",
    "traces = []\n",
    "max_val = 0\n",
    "cc=1\n",
    "for r in ranges:\n",
    "    lc = LightCurve(path)\n",
    "    lc.mask(lower_pi = r[0]*100, upper_pi=r[1]*100)\n",
    "    lc.generate()\n",
    "    lc.counts_extended = [ lc.counts_extended[i] - min(lc.counts_extended) for i in range(len(lc.counts_extended)) ]\n",
    "    if r == ranges[0]:\n",
    "        max_val = max(lc.counts_extended)\n",
    "        current_max = max_val\n",
    "    else:\n",
    "        current_max = max(lc.counts_extended)\n",
    "    print(r, current_max, max_val)\n",
    "    ci = int(255/len(lc.counts_extended)*cc) # ci = \"color index\"\n",
    "    t = dict(\n",
    "            z=[ [lc.counts_extended[i], lc.counts_extended[i]] for i in range(len(lc.counts_extended)) ],\n",
    "            x=[ [r[0], r[1]] for i in range(len(lc.counts_extended)) ],\n",
    "            y=[ [lc.phasebins_extended[i], lc.phasebins_extended[i] ] for i in range(len(lc.phasebins_extended)) ],\n",
    "            #colorscale=[ [l, 'rgb(%d,%d,244)'%(ci, ci) ] for l in np.arange(0, 1.1, 0.1) ],\n",
    "            #colorscale='Jet',\n",
    "            colorscale=[ [0.1, 'rgb(10,10,255)'] for i in range(5) ],\n",
    "            showscale=False,\n",
    "            type='surface'\n",
    "        )\n",
    "    cc+=1\n",
    "    \n",
    "    traces.append(t)\n",
    "\n",
    "layout = go.Layout(\n",
    "                    scene = dict(\n",
    "                    xaxis = dict(\n",
    "                        title='Energy (keV)'),\n",
    "                    yaxis = dict(\n",
    "                        title='Pulse Phase'),\n",
    "                    zaxis = dict(\n",
    "                        title='Normalized Counts'),),\n",
    "                    width=1000,\n",
    "                    height=800,\n",
    "                    margin=dict(\n",
    "                    r=0, b=0,\n",
    "                    l=0, t=0),\n",
    "                    autosize=False\n",
    "                  )\n",
    "                  \n",
    "    \n",
    "    \n",
    "fig_J0218 = { 'data':traces, 'layout':layout }\n",
    "py.iplot(fig_J0218, image_filename=\"J0218+4232 Profile\")"
   ]
  },
  {
   "cell_type": "code",
   "execution_count": null,
   "metadata": {},
   "outputs": [],
   "source": []
  }
 ],
 "metadata": {
  "kernelspec": {
   "display_name": "Python 3",
   "language": "python",
   "name": "python3"
  },
  "language_info": {
   "codemirror_mode": {
    "name": "ipython",
    "version": 3
   },
   "file_extension": ".py",
   "mimetype": "text/x-python",
   "name": "python",
   "nbconvert_exporter": "python",
   "pygments_lexer": "ipython3",
   "version": "3.6.6"
  }
 },
 "nbformat": 4,
 "nbformat_minor": 2
}
